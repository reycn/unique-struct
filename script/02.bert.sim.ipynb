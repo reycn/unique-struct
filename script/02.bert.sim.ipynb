{
 "cells": [
  {
   "cell_type": "code",
   "execution_count": 1,
   "metadata": {},
   "outputs": [
    {
     "name": "stdout",
     "output_type": "stream",
     "text": [
      "Requirement already satisfied: sentence_transformers in /home/rongxin/anaconda3/envs/bert/lib/python3.9/site-packages (3.3.1)\n",
      "Requirement already satisfied: transformers<5.0.0,>=4.41.0 in /home/rongxin/anaconda3/envs/bert/lib/python3.9/site-packages (from sentence_transformers) (4.47.1)\n",
      "Requirement already satisfied: tqdm in /home/rongxin/anaconda3/envs/bert/lib/python3.9/site-packages (from sentence_transformers) (4.67.1)\n",
      "Requirement already satisfied: torch>=1.11.0 in /home/rongxin/anaconda3/envs/bert/lib/python3.9/site-packages (from sentence_transformers) (2.5.1.post306)\n",
      "Requirement already satisfied: scikit-learn in /home/rongxin/anaconda3/envs/bert/lib/python3.9/site-packages (from sentence_transformers) (1.6.0)\n",
      "Requirement already satisfied: scipy in /home/rongxin/anaconda3/envs/bert/lib/python3.9/site-packages (from sentence_transformers) (1.13.1)\n",
      "Requirement already satisfied: huggingface-hub>=0.20.0 in /home/rongxin/anaconda3/envs/bert/lib/python3.9/site-packages (from sentence_transformers) (0.26.5)\n",
      "Requirement already satisfied: Pillow in /home/rongxin/anaconda3/envs/bert/lib/python3.9/site-packages (from sentence_transformers) (11.0.0)\n",
      "Requirement already satisfied: filelock in /home/rongxin/anaconda3/envs/bert/lib/python3.9/site-packages (from huggingface-hub>=0.20.0->sentence_transformers) (3.16.1)\n",
      "Requirement already satisfied: fsspec>=2023.5.0 in /home/rongxin/anaconda3/envs/bert/lib/python3.9/site-packages (from huggingface-hub>=0.20.0->sentence_transformers) (2024.9.0)\n",
      "Requirement already satisfied: packaging>=20.9 in /home/rongxin/anaconda3/envs/bert/lib/python3.9/site-packages (from huggingface-hub>=0.20.0->sentence_transformers) (24.2)\n",
      "Requirement already satisfied: pyyaml>=5.1 in /home/rongxin/anaconda3/envs/bert/lib/python3.9/site-packages (from huggingface-hub>=0.20.0->sentence_transformers) (6.0.2)\n",
      "Requirement already satisfied: requests in /home/rongxin/anaconda3/envs/bert/lib/python3.9/site-packages (from huggingface-hub>=0.20.0->sentence_transformers) (2.32.3)\n",
      "Requirement already satisfied: typing-extensions>=3.7.4.3 in /home/rongxin/anaconda3/envs/bert/lib/python3.9/site-packages (from huggingface-hub>=0.20.0->sentence_transformers) (4.12.2)\n",
      "Requirement already satisfied: sympy!=1.13.2,>=1.13.1 in /home/rongxin/anaconda3/envs/bert/lib/python3.9/site-packages (from torch>=1.11.0->sentence_transformers) (1.13.3)\n",
      "Requirement already satisfied: networkx in /home/rongxin/anaconda3/envs/bert/lib/python3.9/site-packages (from torch>=1.11.0->sentence_transformers) (3.2.1)\n",
      "Requirement already satisfied: jinja2 in /home/rongxin/anaconda3/envs/bert/lib/python3.9/site-packages (from torch>=1.11.0->sentence_transformers) (3.1.4)\n",
      "Requirement already satisfied: numpy>=1.17 in /home/rongxin/anaconda3/envs/bert/lib/python3.9/site-packages (from transformers<5.0.0,>=4.41.0->sentence_transformers) (1.26.4)\n",
      "Requirement already satisfied: regex!=2019.12.17 in /home/rongxin/anaconda3/envs/bert/lib/python3.9/site-packages (from transformers<5.0.0,>=4.41.0->sentence_transformers) (2024.11.6)\n",
      "Requirement already satisfied: tokenizers<0.22,>=0.21 in /home/rongxin/anaconda3/envs/bert/lib/python3.9/site-packages (from transformers<5.0.0,>=4.41.0->sentence_transformers) (0.21.0)\n",
      "Requirement already satisfied: safetensors>=0.4.1 in /home/rongxin/anaconda3/envs/bert/lib/python3.9/site-packages (from transformers<5.0.0,>=4.41.0->sentence_transformers) (0.4.5)\n",
      "Requirement already satisfied: joblib>=1.2.0 in /home/rongxin/anaconda3/envs/bert/lib/python3.9/site-packages (from scikit-learn->sentence_transformers) (1.4.2)\n",
      "Requirement already satisfied: threadpoolctl>=3.1.0 in /home/rongxin/anaconda3/envs/bert/lib/python3.9/site-packages (from scikit-learn->sentence_transformers) (3.5.0)\n",
      "Requirement already satisfied: mpmath<1.4,>=1.1.0 in /home/rongxin/anaconda3/envs/bert/lib/python3.9/site-packages (from sympy!=1.13.2,>=1.13.1->torch>=1.11.0->sentence_transformers) (1.3.0)\n",
      "Requirement already satisfied: MarkupSafe>=2.0 in /home/rongxin/anaconda3/envs/bert/lib/python3.9/site-packages (from jinja2->torch>=1.11.0->sentence_transformers) (3.0.2)\n",
      "Requirement already satisfied: charset_normalizer<4,>=2 in /home/rongxin/anaconda3/envs/bert/lib/python3.9/site-packages (from requests->huggingface-hub>=0.20.0->sentence_transformers) (3.4.0)\n",
      "Requirement already satisfied: idna<4,>=2.5 in /home/rongxin/anaconda3/envs/bert/lib/python3.9/site-packages (from requests->huggingface-hub>=0.20.0->sentence_transformers) (3.10)\n",
      "Requirement already satisfied: urllib3<3,>=1.21.1 in /home/rongxin/anaconda3/envs/bert/lib/python3.9/site-packages (from requests->huggingface-hub>=0.20.0->sentence_transformers) (2.2.3)\n",
      "Requirement already satisfied: certifi>=2017.4.17 in /home/rongxin/anaconda3/envs/bert/lib/python3.9/site-packages (from requests->huggingface-hub>=0.20.0->sentence_transformers) (2024.12.14)\n"
     ]
    }
   ],
   "source": [
    "!pip install sentence_transformers\n",
    "\n",
    "# Importing necessary libraries\n",
    "from sentence_transformers import SentenceTransformer\n",
    "from sklearn.metrics.pairwise import cosine_similarity\n",
    "import numpy as np\n",
    "from tqdm import tqdm\n",
    "import pandas as pd\n",
    "import polars as pl\n",
    "from rich import print as pp\n",
    "import os\n",
    "from pandas import DataFrame\n"
   ]
  },
  {
   "cell_type": "code",
   "execution_count": 2,
   "metadata": {},
   "outputs": [
    {
     "data": {
      "text/html": [
       "<pre style=\"white-space:pre;overflow-x:auto;line-height:normal;font-family:Menlo,'DejaVu Sans Mono',consolas,'Courier New',monospace\"><span style=\"color: #000080; text-decoration-color: #000080; font-weight: bold\">&gt; Processing NYTIMES.csv...</span>\n",
       "</pre>\n"
      ],
      "text/plain": [
       "\u001b[1;34m> Processing NYTIMES.csv\u001b[0m\u001b[1;34m...\u001b[0m\n"
      ]
     },
     "metadata": {},
     "output_type": "display_data"
    },
    {
     "data": {
      "text/html": [
       "<pre style=\"white-space:pre;overflow-x:auto;line-height:normal;font-family:Menlo,'DejaVu Sans Mono',consolas,'Courier New',monospace\"><span style=\"color: #000080; text-decoration-color: #000080; font-weight: bold\">&gt; Processing SEANHANNITY.csv...</span>\n",
       "</pre>\n"
      ],
      "text/plain": [
       "\u001b[1;34m> Processing SEANHANNITY.csv\u001b[0m\u001b[1;34m...\u001b[0m\n"
      ]
     },
     "metadata": {},
     "output_type": "display_data"
    },
    {
     "data": {
      "text/html": [
       "<pre style=\"white-space:pre;overflow-x:auto;line-height:normal;font-family:Menlo,'DejaVu Sans Mono',consolas,'Courier New',monospace\"><span style=\"color: #000080; text-decoration-color: #000080; font-weight: bold\">&gt; Processing VICE.csv...</span>\n",
       "</pre>\n"
      ],
      "text/plain": [
       "\u001b[1;34m> Processing VICE.csv\u001b[0m\u001b[1;34m...\u001b[0m\n"
      ]
     },
     "metadata": {},
     "output_type": "display_data"
    },
    {
     "data": {
      "text/html": [
       "<pre style=\"white-space:pre;overflow-x:auto;line-height:normal;font-family:Menlo,'DejaVu Sans Mono',consolas,'Courier New',monospace\"><span style=\"color: #000080; text-decoration-color: #000080; font-weight: bold\">&gt; Processing TIME.csv...</span>\n",
       "</pre>\n"
      ],
      "text/plain": [
       "\u001b[1;34m> Processing TIME.csv\u001b[0m\u001b[1;34m...\u001b[0m\n"
      ]
     },
     "metadata": {},
     "output_type": "display_data"
    },
    {
     "data": {
      "text/html": [
       "<pre style=\"white-space:pre;overflow-x:auto;line-height:normal;font-family:Menlo,'DejaVu Sans Mono',consolas,'Courier New',monospace\"><span style=\"color: #000080; text-decoration-color: #000080; font-weight: bold\">&gt; Processing GUARDIAN.csv...</span>\n",
       "</pre>\n"
      ],
      "text/plain": [
       "\u001b[1;34m> Processing GUARDIAN.csv\u001b[0m\u001b[1;34m...\u001b[0m\n"
      ]
     },
     "metadata": {},
     "output_type": "display_data"
    },
    {
     "data": {
      "text/html": [
       "<pre style=\"white-space:pre;overflow-x:auto;line-height:normal;font-family:Menlo,'DejaVu Sans Mono',consolas,'Courier New',monospace\"><span style=\"color: #000080; text-decoration-color: #000080; font-weight: bold\">&gt; Processing NEWSWEEK.csv...</span>\n",
       "</pre>\n"
      ],
      "text/plain": [
       "\u001b[1;34m> Processing NEWSWEEK.csv\u001b[0m\u001b[1;34m...\u001b[0m\n"
      ]
     },
     "metadata": {},
     "output_type": "display_data"
    },
    {
     "data": {
      "text/html": [
       "<pre style=\"white-space:pre;overflow-x:auto;line-height:normal;font-family:Menlo,'DejaVu Sans Mono',consolas,'Courier New',monospace\"><span style=\"color: #000080; text-decoration-color: #000080; font-weight: bold\">&gt; Processing USATODAY.csv...</span>\n",
       "</pre>\n"
      ],
      "text/plain": [
       "\u001b[1;34m> Processing USATODAY.csv\u001b[0m\u001b[1;34m...\u001b[0m\n"
      ]
     },
     "metadata": {},
     "output_type": "display_data"
    },
    {
     "data": {
      "text/html": [
       "<pre style=\"white-space:pre;overflow-x:auto;line-height:normal;font-family:Menlo,'DejaVu Sans Mono',consolas,'Courier New',monospace\"><span style=\"color: #000080; text-decoration-color: #000080; font-weight: bold\">&gt; Processing DAILYCALLER.csv...</span>\n",
       "</pre>\n"
      ],
      "text/plain": [
       "\u001b[1;34m> Processing DAILYCALLER.csv\u001b[0m\u001b[1;34m...\u001b[0m\n"
      ]
     },
     "metadata": {},
     "output_type": "display_data"
    },
    {
     "data": {
      "text/html": [
       "<pre style=\"white-space:pre;overflow-x:auto;line-height:normal;font-family:Menlo,'DejaVu Sans Mono',consolas,'Courier New',monospace\"><span style=\"color: #000080; text-decoration-color: #000080; font-weight: bold\">&gt; Processing THEHILL.csv...</span>\n",
       "</pre>\n"
      ],
      "text/plain": [
       "\u001b[1;34m> Processing THEHILL.csv\u001b[0m\u001b[1;34m...\u001b[0m\n"
      ]
     },
     "metadata": {},
     "output_type": "display_data"
    },
    {
     "data": {
      "text/html": [
       "<pre style=\"white-space:pre;overflow-x:auto;line-height:normal;font-family:Menlo,'DejaVu Sans Mono',consolas,'Courier New',monospace\"><span style=\"color: #000080; text-decoration-color: #000080; font-weight: bold\">&gt; Processing MSNBC.csv...</span>\n",
       "</pre>\n"
      ],
      "text/plain": [
       "\u001b[1;34m> Processing MSNBC.csv\u001b[0m\u001b[1;34m...\u001b[0m\n"
      ]
     },
     "metadata": {},
     "output_type": "display_data"
    },
    {
     "data": {
      "text/html": [
       "<pre style=\"white-space:pre;overflow-x:auto;line-height:normal;font-family:Menlo,'DejaVu Sans Mono',consolas,'Courier New',monospace\"><span style=\"color: #000080; text-decoration-color: #000080; font-weight: bold\">&gt; Processing VOXDOTCOM.csv...</span>\n",
       "</pre>\n"
      ],
      "text/plain": [
       "\u001b[1;34m> Processing VOXDOTCOM.csv\u001b[0m\u001b[1;34m...\u001b[0m\n"
      ]
     },
     "metadata": {},
     "output_type": "display_data"
    },
    {
     "data": {
      "text/html": [
       "<pre style=\"white-space:pre;overflow-x:auto;line-height:normal;font-family:Menlo,'DejaVu Sans Mono',consolas,'Courier New',monospace\"><span style=\"color: #000080; text-decoration-color: #000080; font-weight: bold\">&gt; Processing NYPOST.csv...</span>\n",
       "</pre>\n"
      ],
      "text/plain": [
       "\u001b[1;34m> Processing NYPOST.csv\u001b[0m\u001b[1;34m...\u001b[0m\n"
      ]
     },
     "metadata": {},
     "output_type": "display_data"
    },
    {
     "data": {
      "text/html": [
       "<pre style=\"white-space:pre;overflow-x:auto;line-height:normal;font-family:Menlo,'DejaVu Sans Mono',consolas,'Courier New',monospace\"><span style=\"color: #000080; text-decoration-color: #000080; font-weight: bold\">&gt; Processing HUFFPOST.csv...</span>\n",
       "</pre>\n"
      ],
      "text/plain": [
       "\u001b[1;34m> Processing HUFFPOST.csv\u001b[0m\u001b[1;34m...\u001b[0m\n"
      ]
     },
     "metadata": {},
     "output_type": "display_data"
    },
    {
     "data": {
      "text/html": [
       "<pre style=\"white-space:pre;overflow-x:auto;line-height:normal;font-family:Menlo,'DejaVu Sans Mono',consolas,'Courier New',monospace\"><span style=\"color: #000080; text-decoration-color: #000080; font-weight: bold\">&gt; Processing PBS.csv...</span>\n",
       "</pre>\n"
      ],
      "text/plain": [
       "\u001b[1;34m> Processing PBS.csv\u001b[0m\u001b[1;34m...\u001b[0m\n"
      ]
     },
     "metadata": {},
     "output_type": "display_data"
    },
    {
     "data": {
      "text/html": [
       "<pre style=\"white-space:pre;overflow-x:auto;line-height:normal;font-family:Menlo,'DejaVu Sans Mono',consolas,'Courier New',monospace\"><span style=\"color: #000080; text-decoration-color: #000080; font-weight: bold\">&gt; Processing NPR.csv...</span>\n",
       "</pre>\n"
      ],
      "text/plain": [
       "\u001b[1;34m> Processing NPR.csv\u001b[0m\u001b[1;34m...\u001b[0m\n"
      ]
     },
     "metadata": {},
     "output_type": "display_data"
    },
    {
     "data": {
      "text/html": [
       "<pre style=\"white-space:pre;overflow-x:auto;line-height:normal;font-family:Menlo,'DejaVu Sans Mono',consolas,'Courier New',monospace\"><span style=\"color: #000080; text-decoration-color: #000080; font-weight: bold\">&gt; Processing BUSINESSINSIDER.csv...</span>\n",
       "</pre>\n"
      ],
      "text/plain": [
       "\u001b[1;34m> Processing BUSINESSINSIDER.csv\u001b[0m\u001b[1;34m...\u001b[0m\n"
      ]
     },
     "metadata": {},
     "output_type": "display_data"
    },
    {
     "data": {
      "text/html": [
       "<pre style=\"white-space:pre;overflow-x:auto;line-height:normal;font-family:Menlo,'DejaVu Sans Mono',consolas,'Courier New',monospace\"><span style=\"color: #000080; text-decoration-color: #000080; font-weight: bold\">&gt; Processing BUZZFEEDNEWS.csv...</span>\n",
       "</pre>\n"
      ],
      "text/plain": [
       "\u001b[1;34m> Processing BUZZFEEDNEWS.csv\u001b[0m\u001b[1;34m...\u001b[0m\n"
      ]
     },
     "metadata": {},
     "output_type": "display_data"
    },
    {
     "data": {
      "text/html": [
       "<pre style=\"white-space:pre;overflow-x:auto;line-height:normal;font-family:Menlo,'DejaVu Sans Mono',consolas,'Courier New',monospace\"><span style=\"color: #000080; text-decoration-color: #000080; font-weight: bold\">&gt; Processing NBCNEWS.csv...</span>\n",
       "</pre>\n"
      ],
      "text/plain": [
       "\u001b[1;34m> Processing NBCNEWS.csv\u001b[0m\u001b[1;34m...\u001b[0m\n"
      ]
     },
     "metadata": {},
     "output_type": "display_data"
    },
    {
     "data": {
      "text/html": [
       "<pre style=\"white-space:pre;overflow-x:auto;line-height:normal;font-family:Menlo,'DejaVu Sans Mono',consolas,'Courier New',monospace\"><span style=\"color: #000080; text-decoration-color: #000080; font-weight: bold\">&gt; Processing CNN.csv...</span>\n",
       "</pre>\n"
      ],
      "text/plain": [
       "\u001b[1;34m> Processing CNN.csv\u001b[0m\u001b[1;34m...\u001b[0m\n"
      ]
     },
     "metadata": {},
     "output_type": "display_data"
    },
    {
     "data": {
      "text/html": [
       "<pre style=\"white-space:pre;overflow-x:auto;line-height:normal;font-family:Menlo,'DejaVu Sans Mono',consolas,'Courier New',monospace\"><span style=\"color: #000080; text-decoration-color: #000080; font-weight: bold\">&gt; Processing BBCWORLD.csv...</span>\n",
       "</pre>\n"
      ],
      "text/plain": [
       "\u001b[1;34m> Processing BBCWORLD.csv\u001b[0m\u001b[1;34m...\u001b[0m\n"
      ]
     },
     "metadata": {},
     "output_type": "display_data"
    },
    {
     "data": {
      "text/html": [
       "<pre style=\"white-space:pre;overflow-x:auto;line-height:normal;font-family:Menlo,'DejaVu Sans Mono',consolas,'Courier New',monospace\"><span style=\"color: #000080; text-decoration-color: #000080; font-weight: bold\">&gt; Processing DCEXAMINER.csv...</span>\n",
       "</pre>\n"
      ],
      "text/plain": [
       "\u001b[1;34m> Processing DCEXAMINER.csv\u001b[0m\u001b[1;34m...\u001b[0m\n"
      ]
     },
     "metadata": {},
     "output_type": "display_data"
    },
    {
     "data": {
      "text/html": [
       "<pre style=\"white-space:pre;overflow-x:auto;line-height:normal;font-family:Menlo,'DejaVu Sans Mono',consolas,'Courier New',monospace\"><span style=\"color: #000080; text-decoration-color: #000080; font-weight: bold\">&gt; Processing WSJ.csv...</span>\n",
       "</pre>\n"
      ],
      "text/plain": [
       "\u001b[1;34m> Processing WSJ.csv\u001b[0m\u001b[1;34m...\u001b[0m\n"
      ]
     },
     "metadata": {},
     "output_type": "display_data"
    },
    {
     "data": {
      "text/html": [
       "<pre style=\"white-space:pre;overflow-x:auto;line-height:normal;font-family:Menlo,'DejaVu Sans Mono',consolas,'Courier New',monospace\"><span style=\"color: #000080; text-decoration-color: #000080; font-weight: bold\">&gt; Processing CBSNEWS.csv...</span>\n",
       "</pre>\n"
      ],
      "text/plain": [
       "\u001b[1;34m> Processing CBSNEWS.csv\u001b[0m\u001b[1;34m...\u001b[0m\n"
      ]
     },
     "metadata": {},
     "output_type": "display_data"
    },
    {
     "data": {
      "text/html": [
       "<pre style=\"white-space:pre;overflow-x:auto;line-height:normal;font-family:Menlo,'DejaVu Sans Mono',consolas,'Courier New',monospace\"><span style=\"color: #000080; text-decoration-color: #000080; font-weight: bold\">&gt; Processing FOXNEWS.csv...</span>\n",
       "</pre>\n"
      ],
      "text/plain": [
       "\u001b[1;34m> Processing FOXNEWS.csv\u001b[0m\u001b[1;34m...\u001b[0m\n"
      ]
     },
     "metadata": {},
     "output_type": "display_data"
    },
    {
     "data": {
      "text/html": [
       "<pre style=\"white-space:pre;overflow-x:auto;line-height:normal;font-family:Menlo,'DejaVu Sans Mono',consolas,'Courier New',monospace\"><span style=\"color: #000080; text-decoration-color: #000080; font-weight: bold\">&gt; Processing WASHINGTONPOST.csv...</span>\n",
       "</pre>\n"
      ],
      "text/plain": [
       "\u001b[1;34m> Processing WASHINGTONPOST.csv\u001b[0m\u001b[1;34m...\u001b[0m\n"
      ]
     },
     "metadata": {},
     "output_type": "display_data"
    },
    {
     "data": {
      "text/html": [
       "<pre style=\"white-space:pre;overflow-x:auto;line-height:normal;font-family:Menlo,'DejaVu Sans Mono',consolas,'Courier New',monospace\"><span style=\"color: #000080; text-decoration-color: #000080; font-weight: bold\">&gt; Processing POLITICO.csv...</span>\n",
       "</pre>\n"
      ],
      "text/plain": [
       "\u001b[1;34m> Processing POLITICO.csv\u001b[0m\u001b[1;34m...\u001b[0m\n"
      ]
     },
     "metadata": {},
     "output_type": "display_data"
    },
    {
     "data": {
      "text/html": [
       "<pre style=\"white-space:pre;overflow-x:auto;line-height:normal;font-family:Menlo,'DejaVu Sans Mono',consolas,'Courier New',monospace\"><span style=\"color: #000080; text-decoration-color: #000080; font-weight: bold\">&gt; Processing ABC.csv...</span>\n",
       "</pre>\n"
      ],
      "text/plain": [
       "\u001b[1;34m> Processing ABC.csv\u001b[0m\u001b[1;34m...\u001b[0m\n"
      ]
     },
     "metadata": {},
     "output_type": "display_data"
    },
    {
     "data": {
      "text/html": [
       "<pre style=\"white-space:pre;overflow-x:auto;line-height:normal;font-family:Menlo,'DejaVu Sans Mono',consolas,'Courier New',monospace\"><span style=\"color: #000080; text-decoration-color: #000080; font-weight: bold\">&gt; Processing BREITBARTNEWS.csv...</span>\n",
       "</pre>\n"
      ],
      "text/plain": [
       "\u001b[1;34m> Processing BREITBARTNEWS.csv\u001b[0m\u001b[1;34m...\u001b[0m\n"
      ]
     },
     "metadata": {},
     "output_type": "display_data"
    },
    {
     "data": {
      "text/html": [
       "<pre style=\"white-space:pre;overflow-x:auto;line-height:normal;font-family:Menlo,'DejaVu Sans Mono',consolas,'Courier New',monospace\"><span style=\"color: #008000; text-decoration-color: #008000; font-weight: bold\">&gt; Concatenating </span><span style=\"color: #008000; text-decoration-color: #008000; font-weight: bold\">28</span><span style=\"color: #008000; text-decoration-color: #008000; font-weight: bold\"> dataframes...</span>\n",
       "</pre>\n"
      ],
      "text/plain": [
       "\u001b[1;32m> Concatenating \u001b[0m\u001b[1;32m28\u001b[0m\u001b[1;32m dataframes\u001b[0m\u001b[1;32m...\u001b[0m\n"
      ]
     },
     "metadata": {},
     "output_type": "display_data"
    },
    {
     "name": "stderr",
     "output_type": "stream",
     "text": [
      "/tmp/ipykernel_3901699/2872775576.py:13: FutureWarning: The behavior of DataFrame concatenation with empty or all-NA entries is deprecated. In a future version, this will no longer exclude empty or all-NA columns when determining the result dtypes. To retain the old behavior, exclude the relevant entries before the concat operation.\n",
      "  df: DataFrame = pd.concat(\n"
     ]
    },
    {
     "data": {
      "text/html": [
       "<div>\n",
       "<style scoped>\n",
       "    .dataframe tbody tr th:only-of-type {\n",
       "        vertical-align: middle;\n",
       "    }\n",
       "\n",
       "    .dataframe tbody tr th {\n",
       "        vertical-align: top;\n",
       "    }\n",
       "\n",
       "    .dataframe thead th {\n",
       "        text-align: right;\n",
       "    }\n",
       "</style>\n",
       "<table border=\"1\" class=\"dataframe\">\n",
       "  <thead>\n",
       "    <tr style=\"text-align: right;\">\n",
       "      <th></th>\n",
       "      <th>text</th>\n",
       "      <th>retweet</th>\n",
       "      <th>reply</th>\n",
       "      <th>like</th>\n",
       "      <th>quote</th>\n",
       "      <th>impression</th>\n",
       "      <th>is_reply</th>\n",
       "      <th>id</th>\n",
       "      <th>created_at</th>\n",
       "      <th>author_id</th>\n",
       "      <th>lang</th>\n",
       "      <th>text_raw</th>\n",
       "      <th>media</th>\n",
       "      <th>date</th>\n",
       "      <th>t</th>\n",
       "    </tr>\n",
       "  </thead>\n",
       "  <tbody>\n",
       "    <tr>\n",
       "      <th>0</th>\n",
       "      <td>mom</td>\n",
       "      <td>41.0</td>\n",
       "      <td>6.0</td>\n",
       "      <td>95.0</td>\n",
       "      <td>0.0</td>\n",
       "      <td>0.0</td>\n",
       "      <td>False</td>\n",
       "      <td>7.282756e+17</td>\n",
       "      <td>2016-05-05 17:30:05+00:00</td>\n",
       "      <td>807095.0</td>\n",
       "      <td>en</td>\n",
       "      <td>When your mom takes over your wedding https://...</td>\n",
       "      <td>nytimes</td>\n",
       "      <td>2016-05-05 17:30:05</td>\n",
       "      <td>17</td>\n",
       "    </tr>\n",
       "    <tr>\n",
       "      <th>1</th>\n",
       "      <td>donald trump      jan brewer</td>\n",
       "      <td>142.0</td>\n",
       "      <td>38.0</td>\n",
       "      <td>307.0</td>\n",
       "      <td>0.0</td>\n",
       "      <td>0.0</td>\n",
       "      <td>False</td>\n",
       "      <td>6.987265e+17</td>\n",
       "      <td>2016-02-14 04:32:40+00:00</td>\n",
       "      <td>807095.0</td>\n",
       "      <td>en</td>\n",
       "      <td>Before Donald Trump, there was Jan Brewer http...</td>\n",
       "      <td>nytimes</td>\n",
       "      <td>2016-02-14 04:32:40</td>\n",
       "      <td>6</td>\n",
       "    </tr>\n",
       "    <tr>\n",
       "      <th>2</th>\n",
       "      <td>american soccer  jordan morri   ...</td>\n",
       "      <td>14.0</td>\n",
       "      <td>0.0</td>\n",
       "      <td>0.0</td>\n",
       "      <td>0.0</td>\n",
       "      <td>0.0</td>\n",
       "      <td>False</td>\n",
       "      <td>7.703848e+17</td>\n",
       "      <td>2016-08-29 22:17:03+00:00</td>\n",
       "      <td>807095.0</td>\n",
       "      <td>en</td>\n",
       "      <td>RT @NYTSports: The next big thing in American ...</td>\n",
       "      <td>nytimes</td>\n",
       "      <td>2016-08-29 22:17:03</td>\n",
       "      <td>34</td>\n",
       "    </tr>\n",
       "    <tr>\n",
       "      <th>3</th>\n",
       "      <td>famili win      million powerb jackpot  ...</td>\n",
       "      <td>105.0</td>\n",
       "      <td>0.0</td>\n",
       "      <td>0.0</td>\n",
       "      <td>0.0</td>\n",
       "      <td>0.0</td>\n",
       "      <td>False</td>\n",
       "      <td>7.313451e+17</td>\n",
       "      <td>2016-05-14 04:47:03+00:00</td>\n",
       "      <td>807095.0</td>\n",
       "      <td>en</td>\n",
       "      <td>RT @NYTMetro: A family wins a $429 million Pow...</td>\n",
       "      <td>nytimes</td>\n",
       "      <td>2016-05-14 04:47:03</td>\n",
       "      <td>19</td>\n",
       "    </tr>\n",
       "    <tr>\n",
       "      <th>4</th>\n",
       "      <td>mormon  distast   donald trump   utah     grab...</td>\n",
       "      <td>165.0</td>\n",
       "      <td>37.0</td>\n",
       "      <td>313.0</td>\n",
       "      <td>27.0</td>\n",
       "      <td>0.0</td>\n",
       "      <td>False</td>\n",
       "      <td>7.631597e+17</td>\n",
       "      <td>2016-08-09 23:47:02+00:00</td>\n",
       "      <td>807095.0</td>\n",
       "      <td>en</td>\n",
       "      <td>Mormons’ distaste for Donald Trump puts Utah u...</td>\n",
       "      <td>nytimes</td>\n",
       "      <td>2016-08-09 23:47:02</td>\n",
       "      <td>31</td>\n",
       "    </tr>\n",
       "  </tbody>\n",
       "</table>\n",
       "</div>"
      ],
      "text/plain": [
       "                                                text  retweet  reply   like  \\\n",
       "0                                    mom                 41.0    6.0   95.0   \n",
       "1                   donald trump      jan brewer        142.0   38.0  307.0   \n",
       "2                american soccer  jordan morri   ...     14.0    0.0    0.0   \n",
       "3        famili win      million powerb jackpot  ...    105.0    0.0    0.0   \n",
       "4  mormon  distast   donald trump   utah     grab...    165.0   37.0  313.0   \n",
       "\n",
       "   quote  impression is_reply            id                 created_at  \\\n",
       "0    0.0         0.0    False  7.282756e+17  2016-05-05 17:30:05+00:00   \n",
       "1    0.0         0.0    False  6.987265e+17  2016-02-14 04:32:40+00:00   \n",
       "2    0.0         0.0    False  7.703848e+17  2016-08-29 22:17:03+00:00   \n",
       "3    0.0         0.0    False  7.313451e+17  2016-05-14 04:47:03+00:00   \n",
       "4   27.0         0.0    False  7.631597e+17  2016-08-09 23:47:02+00:00   \n",
       "\n",
       "   author_id lang                                           text_raw    media  \\\n",
       "0   807095.0   en  When your mom takes over your wedding https://...  nytimes   \n",
       "1   807095.0   en  Before Donald Trump, there was Jan Brewer http...  nytimes   \n",
       "2   807095.0   en  RT @NYTSports: The next big thing in American ...  nytimes   \n",
       "3   807095.0   en  RT @NYTMetro: A family wins a $429 million Pow...  nytimes   \n",
       "4   807095.0   en  Mormons’ distaste for Donald Trump puts Utah u...  nytimes   \n",
       "\n",
       "                  date   t  \n",
       "0  2016-05-05 17:30:05  17  \n",
       "1  2016-02-14 04:32:40   6  \n",
       "2  2016-08-29 22:17:03  34  \n",
       "3  2016-05-14 04:47:03  19  \n",
       "4  2016-08-09 23:47:02  31  "
      ]
     },
     "execution_count": 2,
     "metadata": {},
     "output_type": "execute_result"
    }
   ],
   "source": [
    "path = \"../data/sample/\"\n",
    "files = os.listdir(path)\n",
    "\n",
    "dfs = []\n",
    "\n",
    "for file_name in files:\n",
    "    pp(f\"[blue bold]> Processing {file_name}...[/blue bold]\")\n",
    "    file_path = os.path.join(path, file_name)\n",
    "    df_tmp = pl.read_csv(file_path).to_pandas()\n",
    "    dfs += [df_tmp]\n",
    "\n",
    "pp(f\"[green bold]> Concatenating {len(dfs)} dataframes...[/green bold]\")\n",
    "df: DataFrame = pd.concat(\n",
    "    dfs,\n",
    "    ignore_index=True,\n",
    ")\n",
    "\n",
    "\n",
    "df.reset_index(drop=True, inplace=True)\n",
    "df.drop_duplicates(inplace=True)\n",
    "\n",
    "df.head()"
   ]
  },
  {
   "cell_type": "code",
   "execution_count": 3,
   "metadata": {},
   "outputs": [],
   "source": [
    "df[\"text_raw\"] = df[\"text_raw\"].astype(str).fillna(\"\")\n",
    "df[\"unique_id\"] = df.index"
   ]
  },
  {
   "cell_type": "code",
   "execution_count": 4,
   "metadata": {},
   "outputs": [],
   "source": [
    "df.to_csv(\"../data/process/sample.agg.csv\", index=False)"
   ]
  },
  {
   "cell_type": "code",
   "execution_count": 5,
   "metadata": {},
   "outputs": [],
   "source": [
    "def grab_text(t=1, df=df):\n",
    "    # return a list of text for a given t\n",
    "    return df.loc[df[\"t\"] == t, \"text_raw\"].tolist()\n",
    "\n",
    "\n",
    "# grab_text(0)"
   ]
  },
  {
   "cell_type": "code",
   "execution_count": 6,
   "metadata": {},
   "outputs": [
    {
     "data": {
      "text/plain": [
       "[53.099751, 55.060023, 51.603186, 45.022029, 48.017597]"
      ]
     },
     "execution_count": 6,
     "metadata": {},
     "output_type": "execute_result"
    }
   ],
   "source": [
    "model = SentenceTransformer(\"bert-base-nli-mean-tokens\")\n",
    "\n",
    "\n",
    "def cal_sim_score(\n",
    "    sentences: list = [\n",
    "        \"Three years later, the coffin was still full of Jello.\",\n",
    "        \"The fish dreamed of escaping the fishbowl and into the toilet where he saw his friend go.\",\n",
    "        \"The person box was packed with jelly many dozens of months later.\",\n",
    "        \"He found a leprechaun in his walnut shell.\",\n",
    "    ],\n",
    "    model: SentenceTransformer = model,\n",
    ") -> float:\n",
    "    # Encoding the sentences\n",
    "    sentence_embeddings = model.encode(sentences)\n",
    "\n",
    "    # Calculating the cosine similarity between the sentences\n",
    "    sim_scores = cosine_similarity(sentence_embeddings)\n",
    "    sim_scores = np.mean(sim_scores) * 100\n",
    "    sim_scores = round(sim_scores, 3)\n",
    "    return sim_scores\n",
    "\n",
    "\n",
    "def cal_sim_score_single(\n",
    "    sentences: list = [\n",
    "        \"Three years later, the coffin was still full of Jello.\",\n",
    "        \"The fish dreamed of escaping the fishbowl and into the toilet where he saw his friend go.\",\n",
    "        \"The person box was packed with jelly many dozens of months later.\",\n",
    "        \"He found a leprechaun in his walnut shell.\",\n",
    "    ],\n",
    "    model: SentenceTransformer = model,\n",
    ") -> list:\n",
    "    # Filter out non-string sentences to avoid errors\n",
    "    # sentences = [s for s in sentences if isinstance(s, str)]\n",
    "\n",
    "    # Encoding the sentences\n",
    "    sentence_embeddings = model.encode(sentences)\n",
    "\n",
    "    # Calculating the cosine similarity between the sentences\n",
    "    sim_scores = cosine_similarity(sentence_embeddings)\n",
    "    sim_scores = [round(np.mean(score) * 100, 6) for score in sim_scores]\n",
    "    return list(sim_scores)\n",
    "\n",
    "\n",
    "# Calculating the similarity scores\n",
    "# cal_sim_score()\n",
    "cal_sim_score_single(grab_text(1)[:5])"
   ]
  },
  {
   "cell_type": "code",
   "execution_count": 7,
   "metadata": {},
   "outputs": [
    {
     "data": {
      "text/plain": [
       "[0, 1, 2]"
      ]
     },
     "execution_count": 7,
     "metadata": {},
     "output_type": "execute_result"
    }
   ],
   "source": [
    "ts = sorted(df[\"t\"].unique().tolist())\n",
    "ts[:3]"
   ]
  },
  {
   "cell_type": "markdown",
   "metadata": {},
   "source": [
    "# Run"
   ]
  },
  {
   "cell_type": "code",
   "execution_count": null,
   "metadata": {},
   "outputs": [
    {
     "name": "stderr",
     "output_type": "stream",
     "text": [
      "  0%|          | 0/53 [00:00<?, ?it/s]"
     ]
    },
    {
     "data": {
      "text/html": [
       "<pre style=\"white-space:pre;overflow-x:auto;line-height:normal;font-family:Menlo,'DejaVu Sans Mono',consolas,'Courier New',monospace\">--- Processing <span style=\"color: #808000; text-decoration-color: #808000\">t</span>=<span style=\"color: #008080; text-decoration-color: #008080; font-weight: bold\">0</span><span style=\"color: #808000; text-decoration-color: #808000\">...</span>\n",
       "</pre>\n"
      ],
      "text/plain": [
       "--- Processing \u001b[33mt\u001b[0m=\u001b[1;36m0\u001b[0m\u001b[33m...\u001b[0m\n"
      ]
     },
     "metadata": {},
     "output_type": "display_data"
    }
   ],
   "source": [
    "sim_dfs = []\n",
    "save_path = \"../data/process/sim/\"\n",
    "for t in tqdm(ts, position=0, leave=True):\n",
    "    pp(f\"--- Processing t={t}...\")\n",
    "    df_tmp = df.loc[df[\"t\"] == t]\n",
    "    ids = df_tmp.loc[df_tmp[\"t\"] == t, \"unique_id\"].tolist()\n",
    "    sentences = grab_text(t, df=df_tmp)\n",
    "    sim_scores = cal_sim_score_single(sentences)\n",
    "    sim_df = pd.DataFrame(\n",
    "        {\n",
    "            \"unique_id\": ids,\n",
    "            \"t\": [t] * len(sentences),\n",
    "            \"text\": sentences,\n",
    "            \"similarity_score\": sim_scores,\n",
    "        }\n",
    "    )\n",
    "    sim_dfs.append(sim_df)\n",
    "\n",
    "sim_dfs_agg = pd.concat(sim_dfs)\n",
    "save_path = f\"{save_path}/similarity_scores.csv\"\n",
    "sim_dfs_agg.to_csv(save_path, index=False)"
   ]
  }
 ],
 "metadata": {
  "kernelspec": {
   "display_name": "bert",
   "language": "python",
   "name": "python3"
  },
  "language_info": {
   "codemirror_mode": {
    "name": "ipython",
    "version": 3
   },
   "file_extension": ".py",
   "mimetype": "text/x-python",
   "name": "python",
   "nbconvert_exporter": "python",
   "pygments_lexer": "ipython3",
   "version": "3.9.21"
  }
 },
 "nbformat": 4,
 "nbformat_minor": 2
}
