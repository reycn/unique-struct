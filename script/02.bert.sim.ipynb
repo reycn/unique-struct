{
 "cells": [
  {
   "cell_type": "code",
   "execution_count": 1,
   "metadata": {},
   "outputs": [
    {
     "name": "stdout",
     "output_type": "stream",
     "text": [
      "Requirement already satisfied: sentence_transformers in /home/rongxin/anaconda3/envs/bert/lib/python3.9/site-packages (3.3.1)\n",
      "Requirement already satisfied: transformers<5.0.0,>=4.41.0 in /home/rongxin/anaconda3/envs/bert/lib/python3.9/site-packages (from sentence_transformers) (4.47.1)\n",
      "Requirement already satisfied: tqdm in /home/rongxin/anaconda3/envs/bert/lib/python3.9/site-packages (from sentence_transformers) (4.67.1)\n",
      "Requirement already satisfied: torch>=1.11.0 in /home/rongxin/anaconda3/envs/bert/lib/python3.9/site-packages (from sentence_transformers) (2.5.1.post306)\n",
      "Requirement already satisfied: scikit-learn in /home/rongxin/anaconda3/envs/bert/lib/python3.9/site-packages (from sentence_transformers) (1.6.0)\n",
      "Requirement already satisfied: scipy in /home/rongxin/anaconda3/envs/bert/lib/python3.9/site-packages (from sentence_transformers) (1.13.1)\n",
      "Requirement already satisfied: huggingface-hub>=0.20.0 in /home/rongxin/anaconda3/envs/bert/lib/python3.9/site-packages (from sentence_transformers) (0.26.5)\n",
      "Requirement already satisfied: Pillow in /home/rongxin/anaconda3/envs/bert/lib/python3.9/site-packages (from sentence_transformers) (11.0.0)\n",
      "Requirement already satisfied: filelock in /home/rongxin/anaconda3/envs/bert/lib/python3.9/site-packages (from huggingface-hub>=0.20.0->sentence_transformers) (3.16.1)\n",
      "Requirement already satisfied: fsspec>=2023.5.0 in /home/rongxin/anaconda3/envs/bert/lib/python3.9/site-packages (from huggingface-hub>=0.20.0->sentence_transformers) (2024.9.0)\n",
      "Requirement already satisfied: packaging>=20.9 in /home/rongxin/anaconda3/envs/bert/lib/python3.9/site-packages (from huggingface-hub>=0.20.0->sentence_transformers) (24.2)\n",
      "Requirement already satisfied: pyyaml>=5.1 in /home/rongxin/anaconda3/envs/bert/lib/python3.9/site-packages (from huggingface-hub>=0.20.0->sentence_transformers) (6.0.2)\n",
      "Requirement already satisfied: requests in /home/rongxin/anaconda3/envs/bert/lib/python3.9/site-packages (from huggingface-hub>=0.20.0->sentence_transformers) (2.32.3)\n",
      "Requirement already satisfied: typing-extensions>=3.7.4.3 in /home/rongxin/anaconda3/envs/bert/lib/python3.9/site-packages (from huggingface-hub>=0.20.0->sentence_transformers) (4.12.2)\n",
      "Requirement already satisfied: sympy!=1.13.2,>=1.13.1 in /home/rongxin/anaconda3/envs/bert/lib/python3.9/site-packages (from torch>=1.11.0->sentence_transformers) (1.13.3)\n",
      "Requirement already satisfied: networkx in /home/rongxin/anaconda3/envs/bert/lib/python3.9/site-packages (from torch>=1.11.0->sentence_transformers) (3.2.1)\n",
      "Requirement already satisfied: jinja2 in /home/rongxin/anaconda3/envs/bert/lib/python3.9/site-packages (from torch>=1.11.0->sentence_transformers) (3.1.4)\n",
      "Requirement already satisfied: numpy>=1.17 in /home/rongxin/anaconda3/envs/bert/lib/python3.9/site-packages (from transformers<5.0.0,>=4.41.0->sentence_transformers) (1.26.4)\n",
      "Requirement already satisfied: regex!=2019.12.17 in /home/rongxin/anaconda3/envs/bert/lib/python3.9/site-packages (from transformers<5.0.0,>=4.41.0->sentence_transformers) (2024.11.6)\n",
      "Requirement already satisfied: tokenizers<0.22,>=0.21 in /home/rongxin/anaconda3/envs/bert/lib/python3.9/site-packages (from transformers<5.0.0,>=4.41.0->sentence_transformers) (0.21.0)\n",
      "Requirement already satisfied: safetensors>=0.4.1 in /home/rongxin/anaconda3/envs/bert/lib/python3.9/site-packages (from transformers<5.0.0,>=4.41.0->sentence_transformers) (0.4.5)\n",
      "Requirement already satisfied: joblib>=1.2.0 in /home/rongxin/anaconda3/envs/bert/lib/python3.9/site-packages (from scikit-learn->sentence_transformers) (1.4.2)\n",
      "Requirement already satisfied: threadpoolctl>=3.1.0 in /home/rongxin/anaconda3/envs/bert/lib/python3.9/site-packages (from scikit-learn->sentence_transformers) (3.5.0)\n",
      "Requirement already satisfied: mpmath<1.4,>=1.1.0 in /home/rongxin/anaconda3/envs/bert/lib/python3.9/site-packages (from sympy!=1.13.2,>=1.13.1->torch>=1.11.0->sentence_transformers) (1.3.0)\n",
      "Requirement already satisfied: MarkupSafe>=2.0 in /home/rongxin/anaconda3/envs/bert/lib/python3.9/site-packages (from jinja2->torch>=1.11.0->sentence_transformers) (3.0.2)\n",
      "Requirement already satisfied: charset_normalizer<4,>=2 in /home/rongxin/anaconda3/envs/bert/lib/python3.9/site-packages (from requests->huggingface-hub>=0.20.0->sentence_transformers) (3.4.0)\n",
      "Requirement already satisfied: idna<4,>=2.5 in /home/rongxin/anaconda3/envs/bert/lib/python3.9/site-packages (from requests->huggingface-hub>=0.20.0->sentence_transformers) (3.10)\n",
      "Requirement already satisfied: urllib3<3,>=1.21.1 in /home/rongxin/anaconda3/envs/bert/lib/python3.9/site-packages (from requests->huggingface-hub>=0.20.0->sentence_transformers) (2.2.3)\n",
      "Requirement already satisfied: certifi>=2017.4.17 in /home/rongxin/anaconda3/envs/bert/lib/python3.9/site-packages (from requests->huggingface-hub>=0.20.0->sentence_transformers) (2024.12.14)\n"
     ]
    }
   ],
   "source": [
    "!pip install sentence_transformers\n",
    "\n",
    "# Importing necessary libraries\n",
    "from sentence_transformers import SentenceTransformer\n",
    "from sklearn.metrics.pairwise import cosine_similarity\n",
    "import numpy as np\n",
    "from tqdm import tqdm\n",
    "import pandas as pd\n",
    "import polars as pl\n",
    "from rich import print as pp\n",
    "import os\n",
    "from pandas import DataFrame\n"
   ]
  },
  {
   "cell_type": "code",
   "execution_count": 2,
   "metadata": {},
   "outputs": [
    {
     "data": {
      "text/html": [
       "<pre style=\"white-space:pre;overflow-x:auto;line-height:normal;font-family:Menlo,'DejaVu Sans Mono',consolas,'Courier New',monospace\"><span style=\"color: #000080; text-decoration-color: #000080; font-weight: bold\">&gt; Processing NYTIMES.csv...</span>\n",
       "</pre>\n"
      ],
      "text/plain": [
       "\u001b[1;34m> Processing NYTIMES.csv\u001b[0m\u001b[1;34m...\u001b[0m\n"
      ]
     },
     "metadata": {},
     "output_type": "display_data"
    },
    {
     "data": {
      "text/html": [
       "<pre style=\"white-space:pre;overflow-x:auto;line-height:normal;font-family:Menlo,'DejaVu Sans Mono',consolas,'Courier New',monospace\"><span style=\"color: #000080; text-decoration-color: #000080; font-weight: bold\">&gt; Processing SEANHANNITY.csv...</span>\n",
       "</pre>\n"
      ],
      "text/plain": [
       "\u001b[1;34m> Processing SEANHANNITY.csv\u001b[0m\u001b[1;34m...\u001b[0m\n"
      ]
     },
     "metadata": {},
     "output_type": "display_data"
    },
    {
     "data": {
      "text/html": [
       "<pre style=\"white-space:pre;overflow-x:auto;line-height:normal;font-family:Menlo,'DejaVu Sans Mono',consolas,'Courier New',monospace\"><span style=\"color: #000080; text-decoration-color: #000080; font-weight: bold\">&gt; Processing VICE.csv...</span>\n",
       "</pre>\n"
      ],
      "text/plain": [
       "\u001b[1;34m> Processing VICE.csv\u001b[0m\u001b[1;34m...\u001b[0m\n"
      ]
     },
     "metadata": {},
     "output_type": "display_data"
    },
    {
     "data": {
      "text/html": [
       "<pre style=\"white-space:pre;overflow-x:auto;line-height:normal;font-family:Menlo,'DejaVu Sans Mono',consolas,'Courier New',monospace\"><span style=\"color: #000080; text-decoration-color: #000080; font-weight: bold\">&gt; Processing TIME.csv...</span>\n",
       "</pre>\n"
      ],
      "text/plain": [
       "\u001b[1;34m> Processing TIME.csv\u001b[0m\u001b[1;34m...\u001b[0m\n"
      ]
     },
     "metadata": {},
     "output_type": "display_data"
    },
    {
     "data": {
      "text/html": [
       "<pre style=\"white-space:pre;overflow-x:auto;line-height:normal;font-family:Menlo,'DejaVu Sans Mono',consolas,'Courier New',monospace\"><span style=\"color: #000080; text-decoration-color: #000080; font-weight: bold\">&gt; Processing GUARDIAN.csv...</span>\n",
       "</pre>\n"
      ],
      "text/plain": [
       "\u001b[1;34m> Processing GUARDIAN.csv\u001b[0m\u001b[1;34m...\u001b[0m\n"
      ]
     },
     "metadata": {},
     "output_type": "display_data"
    },
    {
     "data": {
      "text/html": [
       "<pre style=\"white-space:pre;overflow-x:auto;line-height:normal;font-family:Menlo,'DejaVu Sans Mono',consolas,'Courier New',monospace\"><span style=\"color: #000080; text-decoration-color: #000080; font-weight: bold\">&gt; Processing NEWSWEEK.csv...</span>\n",
       "</pre>\n"
      ],
      "text/plain": [
       "\u001b[1;34m> Processing NEWSWEEK.csv\u001b[0m\u001b[1;34m...\u001b[0m\n"
      ]
     },
     "metadata": {},
     "output_type": "display_data"
    },
    {
     "data": {
      "text/html": [
       "<pre style=\"white-space:pre;overflow-x:auto;line-height:normal;font-family:Menlo,'DejaVu Sans Mono',consolas,'Courier New',monospace\"><span style=\"color: #000080; text-decoration-color: #000080; font-weight: bold\">&gt; Processing USATODAY.csv...</span>\n",
       "</pre>\n"
      ],
      "text/plain": [
       "\u001b[1;34m> Processing USATODAY.csv\u001b[0m\u001b[1;34m...\u001b[0m\n"
      ]
     },
     "metadata": {},
     "output_type": "display_data"
    },
    {
     "data": {
      "text/html": [
       "<pre style=\"white-space:pre;overflow-x:auto;line-height:normal;font-family:Menlo,'DejaVu Sans Mono',consolas,'Courier New',monospace\"><span style=\"color: #000080; text-decoration-color: #000080; font-weight: bold\">&gt; Processing DAILYCALLER.csv...</span>\n",
       "</pre>\n"
      ],
      "text/plain": [
       "\u001b[1;34m> Processing DAILYCALLER.csv\u001b[0m\u001b[1;34m...\u001b[0m\n"
      ]
     },
     "metadata": {},
     "output_type": "display_data"
    },
    {
     "data": {
      "text/html": [
       "<pre style=\"white-space:pre;overflow-x:auto;line-height:normal;font-family:Menlo,'DejaVu Sans Mono',consolas,'Courier New',monospace\"><span style=\"color: #000080; text-decoration-color: #000080; font-weight: bold\">&gt; Processing THEHILL.csv...</span>\n",
       "</pre>\n"
      ],
      "text/plain": [
       "\u001b[1;34m> Processing THEHILL.csv\u001b[0m\u001b[1;34m...\u001b[0m\n"
      ]
     },
     "metadata": {},
     "output_type": "display_data"
    },
    {
     "data": {
      "text/html": [
       "<pre style=\"white-space:pre;overflow-x:auto;line-height:normal;font-family:Menlo,'DejaVu Sans Mono',consolas,'Courier New',monospace\"><span style=\"color: #000080; text-decoration-color: #000080; font-weight: bold\">&gt; Processing MSNBC.csv...</span>\n",
       "</pre>\n"
      ],
      "text/plain": [
       "\u001b[1;34m> Processing MSNBC.csv\u001b[0m\u001b[1;34m...\u001b[0m\n"
      ]
     },
     "metadata": {},
     "output_type": "display_data"
    },
    {
     "data": {
      "text/html": [
       "<pre style=\"white-space:pre;overflow-x:auto;line-height:normal;font-family:Menlo,'DejaVu Sans Mono',consolas,'Courier New',monospace\"><span style=\"color: #000080; text-decoration-color: #000080; font-weight: bold\">&gt; Processing VOXDOTCOM.csv...</span>\n",
       "</pre>\n"
      ],
      "text/plain": [
       "\u001b[1;34m> Processing VOXDOTCOM.csv\u001b[0m\u001b[1;34m...\u001b[0m\n"
      ]
     },
     "metadata": {},
     "output_type": "display_data"
    },
    {
     "data": {
      "text/html": [
       "<pre style=\"white-space:pre;overflow-x:auto;line-height:normal;font-family:Menlo,'DejaVu Sans Mono',consolas,'Courier New',monospace\"><span style=\"color: #000080; text-decoration-color: #000080; font-weight: bold\">&gt; Processing NYPOST.csv...</span>\n",
       "</pre>\n"
      ],
      "text/plain": [
       "\u001b[1;34m> Processing NYPOST.csv\u001b[0m\u001b[1;34m...\u001b[0m\n"
      ]
     },
     "metadata": {},
     "output_type": "display_data"
    },
    {
     "data": {
      "text/html": [
       "<pre style=\"white-space:pre;overflow-x:auto;line-height:normal;font-family:Menlo,'DejaVu Sans Mono',consolas,'Courier New',monospace\"><span style=\"color: #000080; text-decoration-color: #000080; font-weight: bold\">&gt; Processing HUFFPOST.csv...</span>\n",
       "</pre>\n"
      ],
      "text/plain": [
       "\u001b[1;34m> Processing HUFFPOST.csv\u001b[0m\u001b[1;34m...\u001b[0m\n"
      ]
     },
     "metadata": {},
     "output_type": "display_data"
    },
    {
     "data": {
      "text/html": [
       "<pre style=\"white-space:pre;overflow-x:auto;line-height:normal;font-family:Menlo,'DejaVu Sans Mono',consolas,'Courier New',monospace\"><span style=\"color: #000080; text-decoration-color: #000080; font-weight: bold\">&gt; Processing PBS.csv...</span>\n",
       "</pre>\n"
      ],
      "text/plain": [
       "\u001b[1;34m> Processing PBS.csv\u001b[0m\u001b[1;34m...\u001b[0m\n"
      ]
     },
     "metadata": {},
     "output_type": "display_data"
    },
    {
     "data": {
      "text/html": [
       "<pre style=\"white-space:pre;overflow-x:auto;line-height:normal;font-family:Menlo,'DejaVu Sans Mono',consolas,'Courier New',monospace\"><span style=\"color: #000080; text-decoration-color: #000080; font-weight: bold\">&gt; Processing NPR.csv...</span>\n",
       "</pre>\n"
      ],
      "text/plain": [
       "\u001b[1;34m> Processing NPR.csv\u001b[0m\u001b[1;34m...\u001b[0m\n"
      ]
     },
     "metadata": {},
     "output_type": "display_data"
    },
    {
     "data": {
      "text/html": [
       "<pre style=\"white-space:pre;overflow-x:auto;line-height:normal;font-family:Menlo,'DejaVu Sans Mono',consolas,'Courier New',monospace\"><span style=\"color: #000080; text-decoration-color: #000080; font-weight: bold\">&gt; Processing BUSINESSINSIDER.csv...</span>\n",
       "</pre>\n"
      ],
      "text/plain": [
       "\u001b[1;34m> Processing BUSINESSINSIDER.csv\u001b[0m\u001b[1;34m...\u001b[0m\n"
      ]
     },
     "metadata": {},
     "output_type": "display_data"
    },
    {
     "data": {
      "text/html": [
       "<pre style=\"white-space:pre;overflow-x:auto;line-height:normal;font-family:Menlo,'DejaVu Sans Mono',consolas,'Courier New',monospace\"><span style=\"color: #000080; text-decoration-color: #000080; font-weight: bold\">&gt; Processing BUZZFEEDNEWS.csv...</span>\n",
       "</pre>\n"
      ],
      "text/plain": [
       "\u001b[1;34m> Processing BUZZFEEDNEWS.csv\u001b[0m\u001b[1;34m...\u001b[0m\n"
      ]
     },
     "metadata": {},
     "output_type": "display_data"
    },
    {
     "data": {
      "text/html": [
       "<pre style=\"white-space:pre;overflow-x:auto;line-height:normal;font-family:Menlo,'DejaVu Sans Mono',consolas,'Courier New',monospace\"><span style=\"color: #000080; text-decoration-color: #000080; font-weight: bold\">&gt; Processing NBCNEWS.csv...</span>\n",
       "</pre>\n"
      ],
      "text/plain": [
       "\u001b[1;34m> Processing NBCNEWS.csv\u001b[0m\u001b[1;34m...\u001b[0m\n"
      ]
     },
     "metadata": {},
     "output_type": "display_data"
    },
    {
     "data": {
      "text/html": [
       "<pre style=\"white-space:pre;overflow-x:auto;line-height:normal;font-family:Menlo,'DejaVu Sans Mono',consolas,'Courier New',monospace\"><span style=\"color: #000080; text-decoration-color: #000080; font-weight: bold\">&gt; Processing CNN.csv...</span>\n",
       "</pre>\n"
      ],
      "text/plain": [
       "\u001b[1;34m> Processing CNN.csv\u001b[0m\u001b[1;34m...\u001b[0m\n"
      ]
     },
     "metadata": {},
     "output_type": "display_data"
    },
    {
     "data": {
      "text/html": [
       "<pre style=\"white-space:pre;overflow-x:auto;line-height:normal;font-family:Menlo,'DejaVu Sans Mono',consolas,'Courier New',monospace\"><span style=\"color: #000080; text-decoration-color: #000080; font-weight: bold\">&gt; Processing BBCWORLD.csv...</span>\n",
       "</pre>\n"
      ],
      "text/plain": [
       "\u001b[1;34m> Processing BBCWORLD.csv\u001b[0m\u001b[1;34m...\u001b[0m\n"
      ]
     },
     "metadata": {},
     "output_type": "display_data"
    },
    {
     "data": {
      "text/html": [
       "<pre style=\"white-space:pre;overflow-x:auto;line-height:normal;font-family:Menlo,'DejaVu Sans Mono',consolas,'Courier New',monospace\"><span style=\"color: #000080; text-decoration-color: #000080; font-weight: bold\">&gt; Processing DCEXAMINER.csv...</span>\n",
       "</pre>\n"
      ],
      "text/plain": [
       "\u001b[1;34m> Processing DCEXAMINER.csv\u001b[0m\u001b[1;34m...\u001b[0m\n"
      ]
     },
     "metadata": {},
     "output_type": "display_data"
    },
    {
     "data": {
      "text/html": [
       "<pre style=\"white-space:pre;overflow-x:auto;line-height:normal;font-family:Menlo,'DejaVu Sans Mono',consolas,'Courier New',monospace\"><span style=\"color: #000080; text-decoration-color: #000080; font-weight: bold\">&gt; Processing WSJ.csv...</span>\n",
       "</pre>\n"
      ],
      "text/plain": [
       "\u001b[1;34m> Processing WSJ.csv\u001b[0m\u001b[1;34m...\u001b[0m\n"
      ]
     },
     "metadata": {},
     "output_type": "display_data"
    },
    {
     "data": {
      "text/html": [
       "<pre style=\"white-space:pre;overflow-x:auto;line-height:normal;font-family:Menlo,'DejaVu Sans Mono',consolas,'Courier New',monospace\"><span style=\"color: #000080; text-decoration-color: #000080; font-weight: bold\">&gt; Processing CBSNEWS.csv...</span>\n",
       "</pre>\n"
      ],
      "text/plain": [
       "\u001b[1;34m> Processing CBSNEWS.csv\u001b[0m\u001b[1;34m...\u001b[0m\n"
      ]
     },
     "metadata": {},
     "output_type": "display_data"
    },
    {
     "data": {
      "text/html": [
       "<pre style=\"white-space:pre;overflow-x:auto;line-height:normal;font-family:Menlo,'DejaVu Sans Mono',consolas,'Courier New',monospace\"><span style=\"color: #000080; text-decoration-color: #000080; font-weight: bold\">&gt; Processing FOXNEWS.csv...</span>\n",
       "</pre>\n"
      ],
      "text/plain": [
       "\u001b[1;34m> Processing FOXNEWS.csv\u001b[0m\u001b[1;34m...\u001b[0m\n"
      ]
     },
     "metadata": {},
     "output_type": "display_data"
    },
    {
     "data": {
      "text/html": [
       "<pre style=\"white-space:pre;overflow-x:auto;line-height:normal;font-family:Menlo,'DejaVu Sans Mono',consolas,'Courier New',monospace\"><span style=\"color: #000080; text-decoration-color: #000080; font-weight: bold\">&gt; Processing WASHINGTONPOST.csv...</span>\n",
       "</pre>\n"
      ],
      "text/plain": [
       "\u001b[1;34m> Processing WASHINGTONPOST.csv\u001b[0m\u001b[1;34m...\u001b[0m\n"
      ]
     },
     "metadata": {},
     "output_type": "display_data"
    },
    {
     "data": {
      "text/html": [
       "<pre style=\"white-space:pre;overflow-x:auto;line-height:normal;font-family:Menlo,'DejaVu Sans Mono',consolas,'Courier New',monospace\"><span style=\"color: #000080; text-decoration-color: #000080; font-weight: bold\">&gt; Processing POLITICO.csv...</span>\n",
       "</pre>\n"
      ],
      "text/plain": [
       "\u001b[1;34m> Processing POLITICO.csv\u001b[0m\u001b[1;34m...\u001b[0m\n"
      ]
     },
     "metadata": {},
     "output_type": "display_data"
    },
    {
     "data": {
      "text/html": [
       "<pre style=\"white-space:pre;overflow-x:auto;line-height:normal;font-family:Menlo,'DejaVu Sans Mono',consolas,'Courier New',monospace\"><span style=\"color: #000080; text-decoration-color: #000080; font-weight: bold\">&gt; Processing ABC.csv...</span>\n",
       "</pre>\n"
      ],
      "text/plain": [
       "\u001b[1;34m> Processing ABC.csv\u001b[0m\u001b[1;34m...\u001b[0m\n"
      ]
     },
     "metadata": {},
     "output_type": "display_data"
    },
    {
     "data": {
      "text/html": [
       "<pre style=\"white-space:pre;overflow-x:auto;line-height:normal;font-family:Menlo,'DejaVu Sans Mono',consolas,'Courier New',monospace\"><span style=\"color: #000080; text-decoration-color: #000080; font-weight: bold\">&gt; Processing BREITBARTNEWS.csv...</span>\n",
       "</pre>\n"
      ],
      "text/plain": [
       "\u001b[1;34m> Processing BREITBARTNEWS.csv\u001b[0m\u001b[1;34m...\u001b[0m\n"
      ]
     },
     "metadata": {},
     "output_type": "display_data"
    },
    {
     "data": {
      "text/html": [
       "<pre style=\"white-space:pre;overflow-x:auto;line-height:normal;font-family:Menlo,'DejaVu Sans Mono',consolas,'Courier New',monospace\"><span style=\"color: #008000; text-decoration-color: #008000; font-weight: bold\">&gt; Concatenating </span><span style=\"color: #008000; text-decoration-color: #008000; font-weight: bold\">28</span><span style=\"color: #008000; text-decoration-color: #008000; font-weight: bold\"> dataframes...</span>\n",
       "</pre>\n"
      ],
      "text/plain": [
       "\u001b[1;32m> Concatenating \u001b[0m\u001b[1;32m28\u001b[0m\u001b[1;32m dataframes\u001b[0m\u001b[1;32m...\u001b[0m\n"
      ]
     },
     "metadata": {},
     "output_type": "display_data"
    },
    {
     "name": "stderr",
     "output_type": "stream",
     "text": [
      "/tmp/ipykernel_3901699/2872775576.py:13: FutureWarning: The behavior of DataFrame concatenation with empty or all-NA entries is deprecated. In a future version, this will no longer exclude empty or all-NA columns when determining the result dtypes. To retain the old behavior, exclude the relevant entries before the concat operation.\n",
      "  df: DataFrame = pd.concat(\n"
     ]
    },
    {
     "data": {
      "text/html": [
       "<div>\n",
       "<style scoped>\n",
       "    .dataframe tbody tr th:only-of-type {\n",
       "        vertical-align: middle;\n",
       "    }\n",
       "\n",
       "    .dataframe tbody tr th {\n",
       "        vertical-align: top;\n",
       "    }\n",
       "\n",
       "    .dataframe thead th {\n",
       "        text-align: right;\n",
       "    }\n",
       "</style>\n",
       "<table border=\"1\" class=\"dataframe\">\n",
       "  <thead>\n",
       "    <tr style=\"text-align: right;\">\n",
       "      <th></th>\n",
       "      <th>text</th>\n",
       "      <th>retweet</th>\n",
       "      <th>reply</th>\n",
       "      <th>like</th>\n",
       "      <th>quote</th>\n",
       "      <th>impression</th>\n",
       "      <th>is_reply</th>\n",
       "      <th>id</th>\n",
       "      <th>created_at</th>\n",
       "      <th>author_id</th>\n",
       "      <th>lang</th>\n",
       "      <th>text_raw</th>\n",
       "      <th>media</th>\n",
       "      <th>date</th>\n",
       "      <th>t</th>\n",
       "    </tr>\n",
       "  </thead>\n",
       "  <tbody>\n",
       "    <tr>\n",
       "      <th>0</th>\n",
       "      <td>mom</td>\n",
       "      <td>41.0</td>\n",
       "      <td>6.0</td>\n",
       "      <td>95.0</td>\n",
       "      <td>0.0</td>\n",
       "      <td>0.0</td>\n",
       "      <td>False</td>\n",
       "      <td>7.282756e+17</td>\n",
       "      <td>2016-05-05 17:30:05+00:00</td>\n",
       "      <td>807095.0</td>\n",
       "      <td>en</td>\n",
       "      <td>When your mom takes over your wedding https://...</td>\n",
       "      <td>nytimes</td>\n",
       "      <td>2016-05-05 17:30:05</td>\n",
       "      <td>17</td>\n",
       "    </tr>\n",
       "    <tr>\n",
       "      <th>1</th>\n",
       "      <td>donald trump      jan brewer</td>\n",
       "      <td>142.0</td>\n",
       "      <td>38.0</td>\n",
       "      <td>307.0</td>\n",
       "      <td>0.0</td>\n",
       "      <td>0.0</td>\n",
       "      <td>False</td>\n",
       "      <td>6.987265e+17</td>\n",
       "      <td>2016-02-14 04:32:40+00:00</td>\n",
       "      <td>807095.0</td>\n",
       "      <td>en</td>\n",
       "      <td>Before Donald Trump, there was Jan Brewer http...</td>\n",
       "      <td>nytimes</td>\n",
       "      <td>2016-02-14 04:32:40</td>\n",
       "      <td>6</td>\n",
       "    </tr>\n",
       "    <tr>\n",
       "      <th>2</th>\n",
       "      <td>american soccer  jordan morri   ...</td>\n",
       "      <td>14.0</td>\n",
       "      <td>0.0</td>\n",
       "      <td>0.0</td>\n",
       "      <td>0.0</td>\n",
       "      <td>0.0</td>\n",
       "      <td>False</td>\n",
       "      <td>7.703848e+17</td>\n",
       "      <td>2016-08-29 22:17:03+00:00</td>\n",
       "      <td>807095.0</td>\n",
       "      <td>en</td>\n",
       "      <td>RT @NYTSports: The next big thing in American ...</td>\n",
       "      <td>nytimes</td>\n",
       "      <td>2016-08-29 22:17:03</td>\n",
       "      <td>34</td>\n",
       "    </tr>\n",
       "    <tr>\n",
       "      <th>3</th>\n",
       "      <td>famili win      million powerb jackpot  ...</td>\n",
       "      <td>105.0</td>\n",
       "      <td>0.0</td>\n",
       "      <td>0.0</td>\n",
       "      <td>0.0</td>\n",
       "      <td>0.0</td>\n",
       "      <td>False</td>\n",
       "      <td>7.313451e+17</td>\n",
       "      <td>2016-05-14 04:47:03+00:00</td>\n",
       "      <td>807095.0</td>\n",
       "      <td>en</td>\n",
       "      <td>RT @NYTMetro: A family wins a $429 million Pow...</td>\n",
       "      <td>nytimes</td>\n",
       "      <td>2016-05-14 04:47:03</td>\n",
       "      <td>19</td>\n",
       "    </tr>\n",
       "    <tr>\n",
       "      <th>4</th>\n",
       "      <td>mormon  distast   donald trump   utah     grab...</td>\n",
       "      <td>165.0</td>\n",
       "      <td>37.0</td>\n",
       "      <td>313.0</td>\n",
       "      <td>27.0</td>\n",
       "      <td>0.0</td>\n",
       "      <td>False</td>\n",
       "      <td>7.631597e+17</td>\n",
       "      <td>2016-08-09 23:47:02+00:00</td>\n",
       "      <td>807095.0</td>\n",
       "      <td>en</td>\n",
       "      <td>Mormons’ distaste for Donald Trump puts Utah u...</td>\n",
       "      <td>nytimes</td>\n",
       "      <td>2016-08-09 23:47:02</td>\n",
       "      <td>31</td>\n",
       "    </tr>\n",
       "  </tbody>\n",
       "</table>\n",
       "</div>"
      ],
      "text/plain": [
       "                                                text  retweet  reply   like  \\\n",
       "0                                    mom                 41.0    6.0   95.0   \n",
       "1                   donald trump      jan brewer        142.0   38.0  307.0   \n",
       "2                american soccer  jordan morri   ...     14.0    0.0    0.0   \n",
       "3        famili win      million powerb jackpot  ...    105.0    0.0    0.0   \n",
       "4  mormon  distast   donald trump   utah     grab...    165.0   37.0  313.0   \n",
       "\n",
       "   quote  impression is_reply            id                 created_at  \\\n",
       "0    0.0         0.0    False  7.282756e+17  2016-05-05 17:30:05+00:00   \n",
       "1    0.0         0.0    False  6.987265e+17  2016-02-14 04:32:40+00:00   \n",
       "2    0.0         0.0    False  7.703848e+17  2016-08-29 22:17:03+00:00   \n",
       "3    0.0         0.0    False  7.313451e+17  2016-05-14 04:47:03+00:00   \n",
       "4   27.0         0.0    False  7.631597e+17  2016-08-09 23:47:02+00:00   \n",
       "\n",
       "   author_id lang                                           text_raw    media  \\\n",
       "0   807095.0   en  When your mom takes over your wedding https://...  nytimes   \n",
       "1   807095.0   en  Before Donald Trump, there was Jan Brewer http...  nytimes   \n",
       "2   807095.0   en  RT @NYTSports: The next big thing in American ...  nytimes   \n",
       "3   807095.0   en  RT @NYTMetro: A family wins a $429 million Pow...  nytimes   \n",
       "4   807095.0   en  Mormons’ distaste for Donald Trump puts Utah u...  nytimes   \n",
       "\n",
       "                  date   t  \n",
       "0  2016-05-05 17:30:05  17  \n",
       "1  2016-02-14 04:32:40   6  \n",
       "2  2016-08-29 22:17:03  34  \n",
       "3  2016-05-14 04:47:03  19  \n",
       "4  2016-08-09 23:47:02  31  "
      ]
     },
     "execution_count": 2,
     "metadata": {},
     "output_type": "execute_result"
    }
   ],
   "source": [
    "path = \"../data/sample/\"\n",
    "files = os.listdir(path)\n",
    "\n",
    "dfs = []\n",
    "\n",
    "for file_name in files:\n",
    "    pp(f\"[blue bold]> Processing {file_name}...[/blue bold]\")\n",
    "    file_path = os.path.join(path, file_name)\n",
    "    df_tmp = pl.read_csv(file_path).to_pandas()\n",
    "    dfs += [df_tmp]\n",
    "\n",
    "pp(f\"[green bold]> Concatenating {len(dfs)} dataframes...[/green bold]\")\n",
    "df: DataFrame = pd.concat(\n",
    "    dfs,\n",
    "    ignore_index=True,\n",
    ")\n",
    "\n",
    "\n",
    "df.reset_index(drop=True, inplace=True)\n",
    "df.drop_duplicates(inplace=True)\n",
    "\n",
    "df.head()"
   ]
  },
  {
   "cell_type": "code",
   "execution_count": 3,
   "metadata": {},
   "outputs": [],
   "source": [
    "df[\"text_raw\"] = df[\"text_raw\"].astype(str).fillna(\"\")\n",
    "df[\"unique_id\"] = df.index"
   ]
  },
  {
   "cell_type": "code",
   "execution_count": 4,
   "metadata": {},
   "outputs": [],
   "source": [
    "df.to_csv(\"../data/process/sample.agg.csv\", index=False)"
   ]
  },
  {
   "cell_type": "code",
   "execution_count": 5,
   "metadata": {},
   "outputs": [],
   "source": [
    "def grab_text(t=1, df=df):\n",
    "    # return a list of text for a given t\n",
    "    return df.loc[df[\"t\"] == t, \"text_raw\"].tolist()\n",
    "\n",
    "\n",
    "# grab_text(0)"
   ]
  },
  {
   "cell_type": "code",
   "execution_count": 6,
   "metadata": {},
   "outputs": [
    {
     "data": {
      "text/plain": [
       "[53.099751, 55.060023, 51.603186, 45.022029, 48.017597]"
      ]
     },
     "execution_count": 6,
     "metadata": {},
     "output_type": "execute_result"
    }
   ],
   "source": [
    "model = SentenceTransformer(\"bert-base-nli-mean-tokens\")\n",
    "\n",
    "\n",
    "def cal_sim_score(\n",
    "    sentences: list = [\n",
    "        \"Three years later, the coffin was still full of Jello.\",\n",
    "        \"The fish dreamed of escaping the fishbowl and into the toilet where he saw his friend go.\",\n",
    "        \"The person box was packed with jelly many dozens of months later.\",\n",
    "        \"He found a leprechaun in his walnut shell.\",\n",
    "    ],\n",
    "    model: SentenceTransformer = model,\n",
    ") -> float:\n",
    "    # Encoding the sentences\n",
    "    sentence_embeddings = model.encode(sentences)\n",
    "\n",
    "    # Calculating the cosine similarity between the sentences\n",
    "    sim_scores = cosine_similarity(sentence_embeddings)\n",
    "    sim_scores = np.mean(sim_scores) * 100\n",
    "    sim_scores = round(sim_scores, 3)\n",
    "    return sim_scores\n",
    "\n",
    "\n",
    "def cal_sim_score_single(\n",
    "    sentences: list = [\n",
    "        \"Three years later, the coffin was still full of Jello.\",\n",
    "        \"The fish dreamed of escaping the fishbowl and into the toilet where he saw his friend go.\",\n",
    "        \"The person box was packed with jelly many dozens of months later.\",\n",
    "        \"He found a leprechaun in his walnut shell.\",\n",
    "    ],\n",
    "    model: SentenceTransformer = model,\n",
    ") -> list:\n",
    "    # Filter out non-string sentences to avoid errors\n",
    "    # sentences = [s for s in sentences if isinstance(s, str)]\n",
    "\n",
    "    # Encoding the sentences\n",
    "    sentence_embeddings = model.encode(sentences)\n",
    "\n",
    "    # Calculating the cosine similarity between the sentences\n",
    "    sim_scores = cosine_similarity(sentence_embeddings)\n",
    "    sim_scores = [round(np.mean(score) * 100, 6) for score in sim_scores]\n",
    "    return list(sim_scores)\n",
    "\n",
    "\n",
    "# Calculating the similarity scores\n",
    "# cal_sim_score()\n",
    "cal_sim_score_single(grab_text(1)[:5])"
   ]
  },
  {
   "cell_type": "code",
   "execution_count": 7,
   "metadata": {},
   "outputs": [
    {
     "data": {
      "text/plain": [
       "[0, 1, 2]"
      ]
     },
     "execution_count": 7,
     "metadata": {},
     "output_type": "execute_result"
    }
   ],
   "source": [
    "ts = sorted(df[\"t\"].unique().tolist())\n",
    "ts[:3]"
   ]
  },
  {
   "cell_type": "markdown",
   "metadata": {},
   "source": [
    "# Run"
   ]
  },
  {
   "cell_type": "code",
   "execution_count": 8,
   "metadata": {},
   "outputs": [
    {
     "name": "stderr",
     "output_type": "stream",
     "text": [
      "  0%|          | 0/53 [00:00<?, ?it/s]"
     ]
    },
    {
     "data": {
      "text/html": [
       "<pre style=\"white-space:pre;overflow-x:auto;line-height:normal;font-family:Menlo,'DejaVu Sans Mono',consolas,'Courier New',monospace\">--- Processing <span style=\"color: #808000; text-decoration-color: #808000\">t</span>=<span style=\"color: #008080; text-decoration-color: #008080; font-weight: bold\">0</span><span style=\"color: #808000; text-decoration-color: #808000\">...</span>\n",
       "</pre>\n"
      ],
      "text/plain": [
       "--- Processing \u001b[33mt\u001b[0m=\u001b[1;36m0\u001b[0m\u001b[33m...\u001b[0m\n"
      ]
     },
     "metadata": {},
     "output_type": "display_data"
    },
    {
     "name": "stderr",
     "output_type": "stream",
     "text": [
      "  2%|▏         | 1/53 [00:08<07:20,  8.47s/it]"
     ]
    },
    {
     "data": {
      "text/html": [
       "<pre style=\"white-space:pre;overflow-x:auto;line-height:normal;font-family:Menlo,'DejaVu Sans Mono',consolas,'Courier New',monospace\">--- Processing <span style=\"color: #808000; text-decoration-color: #808000\">t</span>=<span style=\"color: #008080; text-decoration-color: #008080; font-weight: bold\">1</span><span style=\"color: #808000; text-decoration-color: #808000\">...</span>\n",
       "</pre>\n"
      ],
      "text/plain": [
       "--- Processing \u001b[33mt\u001b[0m=\u001b[1;36m1\u001b[0m\u001b[33m...\u001b[0m\n"
      ]
     },
     "metadata": {},
     "output_type": "display_data"
    },
    {
     "name": "stderr",
     "output_type": "stream",
     "text": [
      "  4%|▍         | 2/53 [00:18<07:59,  9.40s/it]"
     ]
    },
    {
     "data": {
      "text/html": [
       "<pre style=\"white-space:pre;overflow-x:auto;line-height:normal;font-family:Menlo,'DejaVu Sans Mono',consolas,'Courier New',monospace\">--- Processing <span style=\"color: #808000; text-decoration-color: #808000\">t</span>=<span style=\"color: #008080; text-decoration-color: #008080; font-weight: bold\">2</span><span style=\"color: #808000; text-decoration-color: #808000\">...</span>\n",
       "</pre>\n"
      ],
      "text/plain": [
       "--- Processing \u001b[33mt\u001b[0m=\u001b[1;36m2\u001b[0m\u001b[33m...\u001b[0m\n"
      ]
     },
     "metadata": {},
     "output_type": "display_data"
    },
    {
     "name": "stderr",
     "output_type": "stream",
     "text": [
      "  6%|▌         | 3/53 [00:28<08:03,  9.66s/it]"
     ]
    },
    {
     "data": {
      "text/html": [
       "<pre style=\"white-space:pre;overflow-x:auto;line-height:normal;font-family:Menlo,'DejaVu Sans Mono',consolas,'Courier New',monospace\">--- Processing <span style=\"color: #808000; text-decoration-color: #808000\">t</span>=<span style=\"color: #008080; text-decoration-color: #008080; font-weight: bold\">3</span><span style=\"color: #808000; text-decoration-color: #808000\">...</span>\n",
       "</pre>\n"
      ],
      "text/plain": [
       "--- Processing \u001b[33mt\u001b[0m=\u001b[1;36m3\u001b[0m\u001b[33m...\u001b[0m\n"
      ]
     },
     "metadata": {},
     "output_type": "display_data"
    },
    {
     "name": "stderr",
     "output_type": "stream",
     "text": [
      "  8%|▊         | 4/53 [00:38<07:50,  9.61s/it]"
     ]
    },
    {
     "data": {
      "text/html": [
       "<pre style=\"white-space:pre;overflow-x:auto;line-height:normal;font-family:Menlo,'DejaVu Sans Mono',consolas,'Courier New',monospace\">--- Processing <span style=\"color: #808000; text-decoration-color: #808000\">t</span>=<span style=\"color: #008080; text-decoration-color: #008080; font-weight: bold\">4</span><span style=\"color: #808000; text-decoration-color: #808000\">...</span>\n",
       "</pre>\n"
      ],
      "text/plain": [
       "--- Processing \u001b[33mt\u001b[0m=\u001b[1;36m4\u001b[0m\u001b[33m...\u001b[0m\n"
      ]
     },
     "metadata": {},
     "output_type": "display_data"
    },
    {
     "name": "stderr",
     "output_type": "stream",
     "text": [
      "  9%|▉         | 5/53 [00:48<08:02, 10.05s/it]"
     ]
    },
    {
     "data": {
      "text/html": [
       "<pre style=\"white-space:pre;overflow-x:auto;line-height:normal;font-family:Menlo,'DejaVu Sans Mono',consolas,'Courier New',monospace\">--- Processing <span style=\"color: #808000; text-decoration-color: #808000\">t</span>=<span style=\"color: #008080; text-decoration-color: #008080; font-weight: bold\">5</span><span style=\"color: #808000; text-decoration-color: #808000\">...</span>\n",
       "</pre>\n"
      ],
      "text/plain": [
       "--- Processing \u001b[33mt\u001b[0m=\u001b[1;36m5\u001b[0m\u001b[33m...\u001b[0m\n"
      ]
     },
     "metadata": {},
     "output_type": "display_data"
    },
    {
     "name": "stderr",
     "output_type": "stream",
     "text": [
      " 11%|█▏        | 6/53 [00:59<08:06, 10.35s/it]"
     ]
    },
    {
     "data": {
      "text/html": [
       "<pre style=\"white-space:pre;overflow-x:auto;line-height:normal;font-family:Menlo,'DejaVu Sans Mono',consolas,'Courier New',monospace\">--- Processing <span style=\"color: #808000; text-decoration-color: #808000\">t</span>=<span style=\"color: #008080; text-decoration-color: #008080; font-weight: bold\">6</span><span style=\"color: #808000; text-decoration-color: #808000\">...</span>\n",
       "</pre>\n"
      ],
      "text/plain": [
       "--- Processing \u001b[33mt\u001b[0m=\u001b[1;36m6\u001b[0m\u001b[33m...\u001b[0m\n"
      ]
     },
     "metadata": {},
     "output_type": "display_data"
    },
    {
     "name": "stderr",
     "output_type": "stream",
     "text": [
      " 13%|█▎        | 7/53 [01:09<07:50, 10.23s/it]"
     ]
    },
    {
     "data": {
      "text/html": [
       "<pre style=\"white-space:pre;overflow-x:auto;line-height:normal;font-family:Menlo,'DejaVu Sans Mono',consolas,'Courier New',monospace\">--- Processing <span style=\"color: #808000; text-decoration-color: #808000\">t</span>=<span style=\"color: #008080; text-decoration-color: #008080; font-weight: bold\">7</span><span style=\"color: #808000; text-decoration-color: #808000\">...</span>\n",
       "</pre>\n"
      ],
      "text/plain": [
       "--- Processing \u001b[33mt\u001b[0m=\u001b[1;36m7\u001b[0m\u001b[33m...\u001b[0m\n"
      ]
     },
     "metadata": {},
     "output_type": "display_data"
    },
    {
     "name": "stderr",
     "output_type": "stream",
     "text": [
      " 15%|█▌        | 8/53 [01:19<07:37, 10.16s/it]"
     ]
    },
    {
     "data": {
      "text/html": [
       "<pre style=\"white-space:pre;overflow-x:auto;line-height:normal;font-family:Menlo,'DejaVu Sans Mono',consolas,'Courier New',monospace\">--- Processing <span style=\"color: #808000; text-decoration-color: #808000\">t</span>=<span style=\"color: #008080; text-decoration-color: #008080; font-weight: bold\">8</span><span style=\"color: #808000; text-decoration-color: #808000\">...</span>\n",
       "</pre>\n"
      ],
      "text/plain": [
       "--- Processing \u001b[33mt\u001b[0m=\u001b[1;36m8\u001b[0m\u001b[33m...\u001b[0m\n"
      ]
     },
     "metadata": {},
     "output_type": "display_data"
    },
    {
     "name": "stderr",
     "output_type": "stream",
     "text": [
      " 17%|█▋        | 9/53 [01:31<07:47, 10.62s/it]"
     ]
    },
    {
     "data": {
      "text/html": [
       "<pre style=\"white-space:pre;overflow-x:auto;line-height:normal;font-family:Menlo,'DejaVu Sans Mono',consolas,'Courier New',monospace\">--- Processing <span style=\"color: #808000; text-decoration-color: #808000\">t</span>=<span style=\"color: #008080; text-decoration-color: #008080; font-weight: bold\">9</span><span style=\"color: #808000; text-decoration-color: #808000\">...</span>\n",
       "</pre>\n"
      ],
      "text/plain": [
       "--- Processing \u001b[33mt\u001b[0m=\u001b[1;36m9\u001b[0m\u001b[33m...\u001b[0m\n"
      ]
     },
     "metadata": {},
     "output_type": "display_data"
    },
    {
     "name": "stderr",
     "output_type": "stream",
     "text": [
      " 19%|█▉        | 10/53 [01:42<07:42, 10.75s/it]"
     ]
    },
    {
     "data": {
      "text/html": [
       "<pre style=\"white-space:pre;overflow-x:auto;line-height:normal;font-family:Menlo,'DejaVu Sans Mono',consolas,'Courier New',monospace\">--- Processing <span style=\"color: #808000; text-decoration-color: #808000\">t</span>=<span style=\"color: #008080; text-decoration-color: #008080; font-weight: bold\">10</span><span style=\"color: #808000; text-decoration-color: #808000\">...</span>\n",
       "</pre>\n"
      ],
      "text/plain": [
       "--- Processing \u001b[33mt\u001b[0m=\u001b[1;36m10\u001b[0m\u001b[33m...\u001b[0m\n"
      ]
     },
     "metadata": {},
     "output_type": "display_data"
    },
    {
     "name": "stderr",
     "output_type": "stream",
     "text": [
      " 21%|██        | 11/53 [01:53<07:30, 10.73s/it]"
     ]
    },
    {
     "data": {
      "text/html": [
       "<pre style=\"white-space:pre;overflow-x:auto;line-height:normal;font-family:Menlo,'DejaVu Sans Mono',consolas,'Courier New',monospace\">--- Processing <span style=\"color: #808000; text-decoration-color: #808000\">t</span>=<span style=\"color: #008080; text-decoration-color: #008080; font-weight: bold\">11</span><span style=\"color: #808000; text-decoration-color: #808000\">...</span>\n",
       "</pre>\n"
      ],
      "text/plain": [
       "--- Processing \u001b[33mt\u001b[0m=\u001b[1;36m11\u001b[0m\u001b[33m...\u001b[0m\n"
      ]
     },
     "metadata": {},
     "output_type": "display_data"
    },
    {
     "name": "stderr",
     "output_type": "stream",
     "text": [
      " 23%|██▎       | 12/53 [02:03<07:09, 10.48s/it]"
     ]
    },
    {
     "data": {
      "text/html": [
       "<pre style=\"white-space:pre;overflow-x:auto;line-height:normal;font-family:Menlo,'DejaVu Sans Mono',consolas,'Courier New',monospace\">--- Processing <span style=\"color: #808000; text-decoration-color: #808000\">t</span>=<span style=\"color: #008080; text-decoration-color: #008080; font-weight: bold\">12</span><span style=\"color: #808000; text-decoration-color: #808000\">...</span>\n",
       "</pre>\n"
      ],
      "text/plain": [
       "--- Processing \u001b[33mt\u001b[0m=\u001b[1;36m12\u001b[0m\u001b[33m...\u001b[0m\n"
      ]
     },
     "metadata": {},
     "output_type": "display_data"
    },
    {
     "name": "stderr",
     "output_type": "stream",
     "text": [
      " 25%|██▍       | 13/53 [02:12<06:44, 10.11s/it]"
     ]
    },
    {
     "data": {
      "text/html": [
       "<pre style=\"white-space:pre;overflow-x:auto;line-height:normal;font-family:Menlo,'DejaVu Sans Mono',consolas,'Courier New',monospace\">--- Processing <span style=\"color: #808000; text-decoration-color: #808000\">t</span>=<span style=\"color: #008080; text-decoration-color: #008080; font-weight: bold\">13</span><span style=\"color: #808000; text-decoration-color: #808000\">...</span>\n",
       "</pre>\n"
      ],
      "text/plain": [
       "--- Processing \u001b[33mt\u001b[0m=\u001b[1;36m13\u001b[0m\u001b[33m...\u001b[0m\n"
      ]
     },
     "metadata": {},
     "output_type": "display_data"
    },
    {
     "name": "stderr",
     "output_type": "stream",
     "text": [
      " 26%|██▋       | 14/53 [02:21<06:26,  9.92s/it]"
     ]
    },
    {
     "data": {
      "text/html": [
       "<pre style=\"white-space:pre;overflow-x:auto;line-height:normal;font-family:Menlo,'DejaVu Sans Mono',consolas,'Courier New',monospace\">--- Processing <span style=\"color: #808000; text-decoration-color: #808000\">t</span>=<span style=\"color: #008080; text-decoration-color: #008080; font-weight: bold\">14</span><span style=\"color: #808000; text-decoration-color: #808000\">...</span>\n",
       "</pre>\n"
      ],
      "text/plain": [
       "--- Processing \u001b[33mt\u001b[0m=\u001b[1;36m14\u001b[0m\u001b[33m...\u001b[0m\n"
      ]
     },
     "metadata": {},
     "output_type": "display_data"
    },
    {
     "name": "stderr",
     "output_type": "stream",
     "text": [
      " 28%|██▊       | 15/53 [02:31<06:12,  9.80s/it]"
     ]
    },
    {
     "data": {
      "text/html": [
       "<pre style=\"white-space:pre;overflow-x:auto;line-height:normal;font-family:Menlo,'DejaVu Sans Mono',consolas,'Courier New',monospace\">--- Processing <span style=\"color: #808000; text-decoration-color: #808000\">t</span>=<span style=\"color: #008080; text-decoration-color: #008080; font-weight: bold\">15</span><span style=\"color: #808000; text-decoration-color: #808000\">...</span>\n",
       "</pre>\n"
      ],
      "text/plain": [
       "--- Processing \u001b[33mt\u001b[0m=\u001b[1;36m15\u001b[0m\u001b[33m...\u001b[0m\n"
      ]
     },
     "metadata": {},
     "output_type": "display_data"
    },
    {
     "name": "stderr",
     "output_type": "stream",
     "text": [
      " 30%|███       | 16/53 [02:40<06:00,  9.75s/it]"
     ]
    },
    {
     "data": {
      "text/html": [
       "<pre style=\"white-space:pre;overflow-x:auto;line-height:normal;font-family:Menlo,'DejaVu Sans Mono',consolas,'Courier New',monospace\">--- Processing <span style=\"color: #808000; text-decoration-color: #808000\">t</span>=<span style=\"color: #008080; text-decoration-color: #008080; font-weight: bold\">16</span><span style=\"color: #808000; text-decoration-color: #808000\">...</span>\n",
       "</pre>\n"
      ],
      "text/plain": [
       "--- Processing \u001b[33mt\u001b[0m=\u001b[1;36m16\u001b[0m\u001b[33m...\u001b[0m\n"
      ]
     },
     "metadata": {},
     "output_type": "display_data"
    },
    {
     "name": "stderr",
     "output_type": "stream",
     "text": [
      " 32%|███▏      | 17/53 [02:50<05:50,  9.74s/it]"
     ]
    },
    {
     "data": {
      "text/html": [
       "<pre style=\"white-space:pre;overflow-x:auto;line-height:normal;font-family:Menlo,'DejaVu Sans Mono',consolas,'Courier New',monospace\">--- Processing <span style=\"color: #808000; text-decoration-color: #808000\">t</span>=<span style=\"color: #008080; text-decoration-color: #008080; font-weight: bold\">17</span><span style=\"color: #808000; text-decoration-color: #808000\">...</span>\n",
       "</pre>\n"
      ],
      "text/plain": [
       "--- Processing \u001b[33mt\u001b[0m=\u001b[1;36m17\u001b[0m\u001b[33m...\u001b[0m\n"
      ]
     },
     "metadata": {},
     "output_type": "display_data"
    },
    {
     "name": "stderr",
     "output_type": "stream",
     "text": [
      " 34%|███▍      | 18/53 [03:00<05:44,  9.85s/it]"
     ]
    },
    {
     "data": {
      "text/html": [
       "<pre style=\"white-space:pre;overflow-x:auto;line-height:normal;font-family:Menlo,'DejaVu Sans Mono',consolas,'Courier New',monospace\">--- Processing <span style=\"color: #808000; text-decoration-color: #808000\">t</span>=<span style=\"color: #008080; text-decoration-color: #008080; font-weight: bold\">18</span><span style=\"color: #808000; text-decoration-color: #808000\">...</span>\n",
       "</pre>\n"
      ],
      "text/plain": [
       "--- Processing \u001b[33mt\u001b[0m=\u001b[1;36m18\u001b[0m\u001b[33m...\u001b[0m\n"
      ]
     },
     "metadata": {},
     "output_type": "display_data"
    },
    {
     "name": "stderr",
     "output_type": "stream",
     "text": [
      " 36%|███▌      | 19/53 [03:10<05:34,  9.84s/it]"
     ]
    },
    {
     "data": {
      "text/html": [
       "<pre style=\"white-space:pre;overflow-x:auto;line-height:normal;font-family:Menlo,'DejaVu Sans Mono',consolas,'Courier New',monospace\">--- Processing <span style=\"color: #808000; text-decoration-color: #808000\">t</span>=<span style=\"color: #008080; text-decoration-color: #008080; font-weight: bold\">19</span><span style=\"color: #808000; text-decoration-color: #808000\">...</span>\n",
       "</pre>\n"
      ],
      "text/plain": [
       "--- Processing \u001b[33mt\u001b[0m=\u001b[1;36m19\u001b[0m\u001b[33m...\u001b[0m\n"
      ]
     },
     "metadata": {},
     "output_type": "display_data"
    },
    {
     "name": "stderr",
     "output_type": "stream",
     "text": [
      " 38%|███▊      | 20/53 [03:20<05:23,  9.79s/it]"
     ]
    },
    {
     "data": {
      "text/html": [
       "<pre style=\"white-space:pre;overflow-x:auto;line-height:normal;font-family:Menlo,'DejaVu Sans Mono',consolas,'Courier New',monospace\">--- Processing <span style=\"color: #808000; text-decoration-color: #808000\">t</span>=<span style=\"color: #008080; text-decoration-color: #008080; font-weight: bold\">20</span><span style=\"color: #808000; text-decoration-color: #808000\">...</span>\n",
       "</pre>\n"
      ],
      "text/plain": [
       "--- Processing \u001b[33mt\u001b[0m=\u001b[1;36m20\u001b[0m\u001b[33m...\u001b[0m\n"
      ]
     },
     "metadata": {},
     "output_type": "display_data"
    },
    {
     "name": "stderr",
     "output_type": "stream",
     "text": [
      " 40%|███▉      | 21/53 [03:29<05:10,  9.69s/it]"
     ]
    },
    {
     "data": {
      "text/html": [
       "<pre style=\"white-space:pre;overflow-x:auto;line-height:normal;font-family:Menlo,'DejaVu Sans Mono',consolas,'Courier New',monospace\">--- Processing <span style=\"color: #808000; text-decoration-color: #808000\">t</span>=<span style=\"color: #008080; text-decoration-color: #008080; font-weight: bold\">21</span><span style=\"color: #808000; text-decoration-color: #808000\">...</span>\n",
       "</pre>\n"
      ],
      "text/plain": [
       "--- Processing \u001b[33mt\u001b[0m=\u001b[1;36m21\u001b[0m\u001b[33m...\u001b[0m\n"
      ]
     },
     "metadata": {},
     "output_type": "display_data"
    },
    {
     "name": "stderr",
     "output_type": "stream",
     "text": [
      " 42%|████▏     | 22/53 [03:38<04:51,  9.41s/it]"
     ]
    },
    {
     "data": {
      "text/html": [
       "<pre style=\"white-space:pre;overflow-x:auto;line-height:normal;font-family:Menlo,'DejaVu Sans Mono',consolas,'Courier New',monospace\">--- Processing <span style=\"color: #808000; text-decoration-color: #808000\">t</span>=<span style=\"color: #008080; text-decoration-color: #008080; font-weight: bold\">22</span><span style=\"color: #808000; text-decoration-color: #808000\">...</span>\n",
       "</pre>\n"
      ],
      "text/plain": [
       "--- Processing \u001b[33mt\u001b[0m=\u001b[1;36m22\u001b[0m\u001b[33m...\u001b[0m\n"
      ]
     },
     "metadata": {},
     "output_type": "display_data"
    },
    {
     "name": "stderr",
     "output_type": "stream",
     "text": [
      " 43%|████▎     | 23/53 [03:48<04:46,  9.56s/it]"
     ]
    },
    {
     "data": {
      "text/html": [
       "<pre style=\"white-space:pre;overflow-x:auto;line-height:normal;font-family:Menlo,'DejaVu Sans Mono',consolas,'Courier New',monospace\">--- Processing <span style=\"color: #808000; text-decoration-color: #808000\">t</span>=<span style=\"color: #008080; text-decoration-color: #008080; font-weight: bold\">23</span><span style=\"color: #808000; text-decoration-color: #808000\">...</span>\n",
       "</pre>\n"
      ],
      "text/plain": [
       "--- Processing \u001b[33mt\u001b[0m=\u001b[1;36m23\u001b[0m\u001b[33m...\u001b[0m\n"
      ]
     },
     "metadata": {},
     "output_type": "display_data"
    },
    {
     "name": "stderr",
     "output_type": "stream",
     "text": [
      " 45%|████▌     | 24/53 [03:58<04:43,  9.78s/it]"
     ]
    },
    {
     "data": {
      "text/html": [
       "<pre style=\"white-space:pre;overflow-x:auto;line-height:normal;font-family:Menlo,'DejaVu Sans Mono',consolas,'Courier New',monospace\">--- Processing <span style=\"color: #808000; text-decoration-color: #808000\">t</span>=<span style=\"color: #008080; text-decoration-color: #008080; font-weight: bold\">24</span><span style=\"color: #808000; text-decoration-color: #808000\">...</span>\n",
       "</pre>\n"
      ],
      "text/plain": [
       "--- Processing \u001b[33mt\u001b[0m=\u001b[1;36m24\u001b[0m\u001b[33m...\u001b[0m\n"
      ]
     },
     "metadata": {},
     "output_type": "display_data"
    },
    {
     "name": "stderr",
     "output_type": "stream",
     "text": [
      " 47%|████▋     | 25/53 [04:08<04:37,  9.91s/it]"
     ]
    },
    {
     "data": {
      "text/html": [
       "<pre style=\"white-space:pre;overflow-x:auto;line-height:normal;font-family:Menlo,'DejaVu Sans Mono',consolas,'Courier New',monospace\">--- Processing <span style=\"color: #808000; text-decoration-color: #808000\">t</span>=<span style=\"color: #008080; text-decoration-color: #008080; font-weight: bold\">25</span><span style=\"color: #808000; text-decoration-color: #808000\">...</span>\n",
       "</pre>\n"
      ],
      "text/plain": [
       "--- Processing \u001b[33mt\u001b[0m=\u001b[1;36m25\u001b[0m\u001b[33m...\u001b[0m\n"
      ]
     },
     "metadata": {},
     "output_type": "display_data"
    },
    {
     "name": "stderr",
     "output_type": "stream",
     "text": [
      " 49%|████▉     | 26/53 [04:18<04:27,  9.90s/it]"
     ]
    },
    {
     "data": {
      "text/html": [
       "<pre style=\"white-space:pre;overflow-x:auto;line-height:normal;font-family:Menlo,'DejaVu Sans Mono',consolas,'Courier New',monospace\">--- Processing <span style=\"color: #808000; text-decoration-color: #808000\">t</span>=<span style=\"color: #008080; text-decoration-color: #008080; font-weight: bold\">26</span><span style=\"color: #808000; text-decoration-color: #808000\">...</span>\n",
       "</pre>\n"
      ],
      "text/plain": [
       "--- Processing \u001b[33mt\u001b[0m=\u001b[1;36m26\u001b[0m\u001b[33m...\u001b[0m\n"
      ]
     },
     "metadata": {},
     "output_type": "display_data"
    },
    {
     "name": "stderr",
     "output_type": "stream",
     "text": [
      " 51%|█████     | 27/53 [04:28<04:15,  9.81s/it]"
     ]
    },
    {
     "data": {
      "text/html": [
       "<pre style=\"white-space:pre;overflow-x:auto;line-height:normal;font-family:Menlo,'DejaVu Sans Mono',consolas,'Courier New',monospace\">--- Processing <span style=\"color: #808000; text-decoration-color: #808000\">t</span>=<span style=\"color: #008080; text-decoration-color: #008080; font-weight: bold\">27</span><span style=\"color: #808000; text-decoration-color: #808000\">...</span>\n",
       "</pre>\n"
      ],
      "text/plain": [
       "--- Processing \u001b[33mt\u001b[0m=\u001b[1;36m27\u001b[0m\u001b[33m...\u001b[0m\n"
      ]
     },
     "metadata": {},
     "output_type": "display_data"
    },
    {
     "name": "stderr",
     "output_type": "stream",
     "text": [
      " 53%|█████▎    | 28/53 [04:39<04:12, 10.11s/it]"
     ]
    },
    {
     "data": {
      "text/html": [
       "<pre style=\"white-space:pre;overflow-x:auto;line-height:normal;font-family:Menlo,'DejaVu Sans Mono',consolas,'Courier New',monospace\">--- Processing <span style=\"color: #808000; text-decoration-color: #808000\">t</span>=<span style=\"color: #008080; text-decoration-color: #008080; font-weight: bold\">28</span><span style=\"color: #808000; text-decoration-color: #808000\">...</span>\n",
       "</pre>\n"
      ],
      "text/plain": [
       "--- Processing \u001b[33mt\u001b[0m=\u001b[1;36m28\u001b[0m\u001b[33m...\u001b[0m\n"
      ]
     },
     "metadata": {},
     "output_type": "display_data"
    },
    {
     "name": "stderr",
     "output_type": "stream",
     "text": [
      " 55%|█████▍    | 29/53 [04:51<04:19, 10.83s/it]"
     ]
    },
    {
     "data": {
      "text/html": [
       "<pre style=\"white-space:pre;overflow-x:auto;line-height:normal;font-family:Menlo,'DejaVu Sans Mono',consolas,'Courier New',monospace\">--- Processing <span style=\"color: #808000; text-decoration-color: #808000\">t</span>=<span style=\"color: #008080; text-decoration-color: #008080; font-weight: bold\">29</span><span style=\"color: #808000; text-decoration-color: #808000\">...</span>\n",
       "</pre>\n"
      ],
      "text/plain": [
       "--- Processing \u001b[33mt\u001b[0m=\u001b[1;36m29\u001b[0m\u001b[33m...\u001b[0m\n"
      ]
     },
     "metadata": {},
     "output_type": "display_data"
    },
    {
     "name": "stderr",
     "output_type": "stream",
     "text": [
      " 57%|█████▋    | 30/53 [05:05<04:26, 11.59s/it]"
     ]
    },
    {
     "data": {
      "text/html": [
       "<pre style=\"white-space:pre;overflow-x:auto;line-height:normal;font-family:Menlo,'DejaVu Sans Mono',consolas,'Courier New',monospace\">--- Processing <span style=\"color: #808000; text-decoration-color: #808000\">t</span>=<span style=\"color: #008080; text-decoration-color: #008080; font-weight: bold\">30</span><span style=\"color: #808000; text-decoration-color: #808000\">...</span>\n",
       "</pre>\n"
      ],
      "text/plain": [
       "--- Processing \u001b[33mt\u001b[0m=\u001b[1;36m30\u001b[0m\u001b[33m...\u001b[0m\n"
      ]
     },
     "metadata": {},
     "output_type": "display_data"
    },
    {
     "name": "stderr",
     "output_type": "stream",
     "text": [
      " 58%|█████▊    | 31/53 [05:15<04:05, 11.18s/it]"
     ]
    },
    {
     "data": {
      "text/html": [
       "<pre style=\"white-space:pre;overflow-x:auto;line-height:normal;font-family:Menlo,'DejaVu Sans Mono',consolas,'Courier New',monospace\">--- Processing <span style=\"color: #808000; text-decoration-color: #808000\">t</span>=<span style=\"color: #008080; text-decoration-color: #008080; font-weight: bold\">31</span><span style=\"color: #808000; text-decoration-color: #808000\">...</span>\n",
       "</pre>\n"
      ],
      "text/plain": [
       "--- Processing \u001b[33mt\u001b[0m=\u001b[1;36m31\u001b[0m\u001b[33m...\u001b[0m\n"
      ]
     },
     "metadata": {},
     "output_type": "display_data"
    },
    {
     "name": "stderr",
     "output_type": "stream",
     "text": [
      " 60%|██████    | 32/53 [05:25<03:46, 10.79s/it]"
     ]
    },
    {
     "data": {
      "text/html": [
       "<pre style=\"white-space:pre;overflow-x:auto;line-height:normal;font-family:Menlo,'DejaVu Sans Mono',consolas,'Courier New',monospace\">--- Processing <span style=\"color: #808000; text-decoration-color: #808000\">t</span>=<span style=\"color: #008080; text-decoration-color: #008080; font-weight: bold\">32</span><span style=\"color: #808000; text-decoration-color: #808000\">...</span>\n",
       "</pre>\n"
      ],
      "text/plain": [
       "--- Processing \u001b[33mt\u001b[0m=\u001b[1;36m32\u001b[0m\u001b[33m...\u001b[0m\n"
      ]
     },
     "metadata": {},
     "output_type": "display_data"
    },
    {
     "name": "stderr",
     "output_type": "stream",
     "text": [
      " 62%|██████▏   | 33/53 [05:35<03:32, 10.61s/it]"
     ]
    },
    {
     "data": {
      "text/html": [
       "<pre style=\"white-space:pre;overflow-x:auto;line-height:normal;font-family:Menlo,'DejaVu Sans Mono',consolas,'Courier New',monospace\">--- Processing <span style=\"color: #808000; text-decoration-color: #808000\">t</span>=<span style=\"color: #008080; text-decoration-color: #008080; font-weight: bold\">33</span><span style=\"color: #808000; text-decoration-color: #808000\">...</span>\n",
       "</pre>\n"
      ],
      "text/plain": [
       "--- Processing \u001b[33mt\u001b[0m=\u001b[1;36m33\u001b[0m\u001b[33m...\u001b[0m\n"
      ]
     },
     "metadata": {},
     "output_type": "display_data"
    },
    {
     "name": "stderr",
     "output_type": "stream",
     "text": [
      " 64%|██████▍   | 34/53 [05:45<03:17, 10.40s/it]"
     ]
    },
    {
     "data": {
      "text/html": [
       "<pre style=\"white-space:pre;overflow-x:auto;line-height:normal;font-family:Menlo,'DejaVu Sans Mono',consolas,'Courier New',monospace\">--- Processing <span style=\"color: #808000; text-decoration-color: #808000\">t</span>=<span style=\"color: #008080; text-decoration-color: #008080; font-weight: bold\">34</span><span style=\"color: #808000; text-decoration-color: #808000\">...</span>\n",
       "</pre>\n"
      ],
      "text/plain": [
       "--- Processing \u001b[33mt\u001b[0m=\u001b[1;36m34\u001b[0m\u001b[33m...\u001b[0m\n"
      ]
     },
     "metadata": {},
     "output_type": "display_data"
    },
    {
     "name": "stderr",
     "output_type": "stream",
     "text": [
      " 66%|██████▌   | 35/53 [05:55<03:04, 10.26s/it]"
     ]
    },
    {
     "data": {
      "text/html": [
       "<pre style=\"white-space:pre;overflow-x:auto;line-height:normal;font-family:Menlo,'DejaVu Sans Mono',consolas,'Courier New',monospace\">--- Processing <span style=\"color: #808000; text-decoration-color: #808000\">t</span>=<span style=\"color: #008080; text-decoration-color: #008080; font-weight: bold\">35</span><span style=\"color: #808000; text-decoration-color: #808000\">...</span>\n",
       "</pre>\n"
      ],
      "text/plain": [
       "--- Processing \u001b[33mt\u001b[0m=\u001b[1;36m35\u001b[0m\u001b[33m...\u001b[0m\n"
      ]
     },
     "metadata": {},
     "output_type": "display_data"
    },
    {
     "name": "stderr",
     "output_type": "stream",
     "text": [
      " 68%|██████▊   | 36/53 [06:04<02:50, 10.03s/it]"
     ]
    },
    {
     "data": {
      "text/html": [
       "<pre style=\"white-space:pre;overflow-x:auto;line-height:normal;font-family:Menlo,'DejaVu Sans Mono',consolas,'Courier New',monospace\">--- Processing <span style=\"color: #808000; text-decoration-color: #808000\">t</span>=<span style=\"color: #008080; text-decoration-color: #008080; font-weight: bold\">36</span><span style=\"color: #808000; text-decoration-color: #808000\">...</span>\n",
       "</pre>\n"
      ],
      "text/plain": [
       "--- Processing \u001b[33mt\u001b[0m=\u001b[1;36m36\u001b[0m\u001b[33m...\u001b[0m\n"
      ]
     },
     "metadata": {},
     "output_type": "display_data"
    },
    {
     "name": "stderr",
     "output_type": "stream",
     "text": [
      " 70%|██████▉   | 37/53 [06:15<02:42, 10.14s/it]"
     ]
    },
    {
     "data": {
      "text/html": [
       "<pre style=\"white-space:pre;overflow-x:auto;line-height:normal;font-family:Menlo,'DejaVu Sans Mono',consolas,'Courier New',monospace\">--- Processing <span style=\"color: #808000; text-decoration-color: #808000\">t</span>=<span style=\"color: #008080; text-decoration-color: #008080; font-weight: bold\">37</span><span style=\"color: #808000; text-decoration-color: #808000\">...</span>\n",
       "</pre>\n"
      ],
      "text/plain": [
       "--- Processing \u001b[33mt\u001b[0m=\u001b[1;36m37\u001b[0m\u001b[33m...\u001b[0m\n"
      ]
     },
     "metadata": {},
     "output_type": "display_data"
    },
    {
     "name": "stderr",
     "output_type": "stream",
     "text": [
      " 72%|███████▏  | 38/53 [06:25<02:33, 10.26s/it]"
     ]
    },
    {
     "data": {
      "text/html": [
       "<pre style=\"white-space:pre;overflow-x:auto;line-height:normal;font-family:Menlo,'DejaVu Sans Mono',consolas,'Courier New',monospace\">--- Processing <span style=\"color: #808000; text-decoration-color: #808000\">t</span>=<span style=\"color: #008080; text-decoration-color: #008080; font-weight: bold\">38</span><span style=\"color: #808000; text-decoration-color: #808000\">...</span>\n",
       "</pre>\n"
      ],
      "text/plain": [
       "--- Processing \u001b[33mt\u001b[0m=\u001b[1;36m38\u001b[0m\u001b[33m...\u001b[0m\n"
      ]
     },
     "metadata": {},
     "output_type": "display_data"
    },
    {
     "name": "stderr",
     "output_type": "stream",
     "text": [
      " 74%|███████▎  | 39/53 [06:37<02:28, 10.61s/it]"
     ]
    },
    {
     "data": {
      "text/html": [
       "<pre style=\"white-space:pre;overflow-x:auto;line-height:normal;font-family:Menlo,'DejaVu Sans Mono',consolas,'Courier New',monospace\">--- Processing <span style=\"color: #808000; text-decoration-color: #808000\">t</span>=<span style=\"color: #008080; text-decoration-color: #008080; font-weight: bold\">39</span><span style=\"color: #808000; text-decoration-color: #808000\">...</span>\n",
       "</pre>\n"
      ],
      "text/plain": [
       "--- Processing \u001b[33mt\u001b[0m=\u001b[1;36m39\u001b[0m\u001b[33m...\u001b[0m\n"
      ]
     },
     "metadata": {},
     "output_type": "display_data"
    },
    {
     "name": "stderr",
     "output_type": "stream",
     "text": [
      " 75%|███████▌  | 40/53 [06:47<02:19, 10.71s/it]"
     ]
    },
    {
     "data": {
      "text/html": [
       "<pre style=\"white-space:pre;overflow-x:auto;line-height:normal;font-family:Menlo,'DejaVu Sans Mono',consolas,'Courier New',monospace\">--- Processing <span style=\"color: #808000; text-decoration-color: #808000\">t</span>=<span style=\"color: #008080; text-decoration-color: #008080; font-weight: bold\">40</span><span style=\"color: #808000; text-decoration-color: #808000\">...</span>\n",
       "</pre>\n"
      ],
      "text/plain": [
       "--- Processing \u001b[33mt\u001b[0m=\u001b[1;36m40\u001b[0m\u001b[33m...\u001b[0m\n"
      ]
     },
     "metadata": {},
     "output_type": "display_data"
    },
    {
     "name": "stderr",
     "output_type": "stream",
     "text": [
      " 77%|███████▋  | 41/53 [07:00<02:15, 11.28s/it]"
     ]
    },
    {
     "data": {
      "text/html": [
       "<pre style=\"white-space:pre;overflow-x:auto;line-height:normal;font-family:Menlo,'DejaVu Sans Mono',consolas,'Courier New',monospace\">--- Processing <span style=\"color: #808000; text-decoration-color: #808000\">t</span>=<span style=\"color: #008080; text-decoration-color: #008080; font-weight: bold\">41</span><span style=\"color: #808000; text-decoration-color: #808000\">...</span>\n",
       "</pre>\n"
      ],
      "text/plain": [
       "--- Processing \u001b[33mt\u001b[0m=\u001b[1;36m41\u001b[0m\u001b[33m...\u001b[0m\n"
      ]
     },
     "metadata": {},
     "output_type": "display_data"
    },
    {
     "name": "stderr",
     "output_type": "stream",
     "text": [
      " 79%|███████▉  | 42/53 [07:11<02:03, 11.22s/it]"
     ]
    },
    {
     "data": {
      "text/html": [
       "<pre style=\"white-space:pre;overflow-x:auto;line-height:normal;font-family:Menlo,'DejaVu Sans Mono',consolas,'Courier New',monospace\">--- Processing <span style=\"color: #808000; text-decoration-color: #808000\">t</span>=<span style=\"color: #008080; text-decoration-color: #008080; font-weight: bold\">42</span><span style=\"color: #808000; text-decoration-color: #808000\">...</span>\n",
       "</pre>\n"
      ],
      "text/plain": [
       "--- Processing \u001b[33mt\u001b[0m=\u001b[1;36m42\u001b[0m\u001b[33m...\u001b[0m\n"
      ]
     },
     "metadata": {},
     "output_type": "display_data"
    },
    {
     "name": "stderr",
     "output_type": "stream",
     "text": [
      " 81%|████████  | 43/53 [07:21<01:48, 10.90s/it]"
     ]
    },
    {
     "data": {
      "text/html": [
       "<pre style=\"white-space:pre;overflow-x:auto;line-height:normal;font-family:Menlo,'DejaVu Sans Mono',consolas,'Courier New',monospace\">--- Processing <span style=\"color: #808000; text-decoration-color: #808000\">t</span>=<span style=\"color: #008080; text-decoration-color: #008080; font-weight: bold\">43</span><span style=\"color: #808000; text-decoration-color: #808000\">...</span>\n",
       "</pre>\n"
      ],
      "text/plain": [
       "--- Processing \u001b[33mt\u001b[0m=\u001b[1;36m43\u001b[0m\u001b[33m...\u001b[0m\n"
      ]
     },
     "metadata": {},
     "output_type": "display_data"
    },
    {
     "name": "stderr",
     "output_type": "stream",
     "text": [
      " 83%|████████▎ | 44/53 [07:32<01:36, 10.76s/it]"
     ]
    },
    {
     "data": {
      "text/html": [
       "<pre style=\"white-space:pre;overflow-x:auto;line-height:normal;font-family:Menlo,'DejaVu Sans Mono',consolas,'Courier New',monospace\">--- Processing <span style=\"color: #808000; text-decoration-color: #808000\">t</span>=<span style=\"color: #008080; text-decoration-color: #008080; font-weight: bold\">44</span><span style=\"color: #808000; text-decoration-color: #808000\">...</span>\n",
       "</pre>\n"
      ],
      "text/plain": [
       "--- Processing \u001b[33mt\u001b[0m=\u001b[1;36m44\u001b[0m\u001b[33m...\u001b[0m\n"
      ]
     },
     "metadata": {},
     "output_type": "display_data"
    },
    {
     "name": "stderr",
     "output_type": "stream",
     "text": [
      " 85%|████████▍ | 45/53 [07:45<01:32, 11.60s/it]"
     ]
    },
    {
     "data": {
      "text/html": [
       "<pre style=\"white-space:pre;overflow-x:auto;line-height:normal;font-family:Menlo,'DejaVu Sans Mono',consolas,'Courier New',monospace\">--- Processing <span style=\"color: #808000; text-decoration-color: #808000\">t</span>=<span style=\"color: #008080; text-decoration-color: #008080; font-weight: bold\">45</span><span style=\"color: #808000; text-decoration-color: #808000\">...</span>\n",
       "</pre>\n"
      ],
      "text/plain": [
       "--- Processing \u001b[33mt\u001b[0m=\u001b[1;36m45\u001b[0m\u001b[33m...\u001b[0m\n"
      ]
     },
     "metadata": {},
     "output_type": "display_data"
    },
    {
     "name": "stderr",
     "output_type": "stream",
     "text": [
      " 87%|████████▋ | 46/53 [07:56<01:19, 11.33s/it]"
     ]
    },
    {
     "data": {
      "text/html": [
       "<pre style=\"white-space:pre;overflow-x:auto;line-height:normal;font-family:Menlo,'DejaVu Sans Mono',consolas,'Courier New',monospace\">--- Processing <span style=\"color: #808000; text-decoration-color: #808000\">t</span>=<span style=\"color: #008080; text-decoration-color: #008080; font-weight: bold\">46</span><span style=\"color: #808000; text-decoration-color: #808000\">...</span>\n",
       "</pre>\n"
      ],
      "text/plain": [
       "--- Processing \u001b[33mt\u001b[0m=\u001b[1;36m46\u001b[0m\u001b[33m...\u001b[0m\n"
      ]
     },
     "metadata": {},
     "output_type": "display_data"
    },
    {
     "name": "stderr",
     "output_type": "stream",
     "text": [
      " 89%|████████▊ | 47/53 [08:05<01:04, 10.78s/it]"
     ]
    },
    {
     "data": {
      "text/html": [
       "<pre style=\"white-space:pre;overflow-x:auto;line-height:normal;font-family:Menlo,'DejaVu Sans Mono',consolas,'Courier New',monospace\">--- Processing <span style=\"color: #808000; text-decoration-color: #808000\">t</span>=<span style=\"color: #008080; text-decoration-color: #008080; font-weight: bold\">47</span><span style=\"color: #808000; text-decoration-color: #808000\">...</span>\n",
       "</pre>\n"
      ],
      "text/plain": [
       "--- Processing \u001b[33mt\u001b[0m=\u001b[1;36m47\u001b[0m\u001b[33m...\u001b[0m\n"
      ]
     },
     "metadata": {},
     "output_type": "display_data"
    },
    {
     "name": "stderr",
     "output_type": "stream",
     "text": [
      " 91%|█████████ | 48/53 [08:15<00:52, 10.51s/it]"
     ]
    },
    {
     "data": {
      "text/html": [
       "<pre style=\"white-space:pre;overflow-x:auto;line-height:normal;font-family:Menlo,'DejaVu Sans Mono',consolas,'Courier New',monospace\">--- Processing <span style=\"color: #808000; text-decoration-color: #808000\">t</span>=<span style=\"color: #008080; text-decoration-color: #008080; font-weight: bold\">48</span><span style=\"color: #808000; text-decoration-color: #808000\">...</span>\n",
       "</pre>\n"
      ],
      "text/plain": [
       "--- Processing \u001b[33mt\u001b[0m=\u001b[1;36m48\u001b[0m\u001b[33m...\u001b[0m\n"
      ]
     },
     "metadata": {},
     "output_type": "display_data"
    },
    {
     "name": "stderr",
     "output_type": "stream",
     "text": [
      " 92%|█████████▏| 49/53 [08:26<00:42, 10.50s/it]"
     ]
    },
    {
     "data": {
      "text/html": [
       "<pre style=\"white-space:pre;overflow-x:auto;line-height:normal;font-family:Menlo,'DejaVu Sans Mono',consolas,'Courier New',monospace\">--- Processing <span style=\"color: #808000; text-decoration-color: #808000\">t</span>=<span style=\"color: #008080; text-decoration-color: #008080; font-weight: bold\">49</span><span style=\"color: #808000; text-decoration-color: #808000\">...</span>\n",
       "</pre>\n"
      ],
      "text/plain": [
       "--- Processing \u001b[33mt\u001b[0m=\u001b[1;36m49\u001b[0m\u001b[33m...\u001b[0m\n"
      ]
     },
     "metadata": {},
     "output_type": "display_data"
    },
    {
     "name": "stderr",
     "output_type": "stream",
     "text": [
      " 94%|█████████▍| 50/53 [08:36<00:31, 10.44s/it]"
     ]
    },
    {
     "data": {
      "text/html": [
       "<pre style=\"white-space:pre;overflow-x:auto;line-height:normal;font-family:Menlo,'DejaVu Sans Mono',consolas,'Courier New',monospace\">--- Processing <span style=\"color: #808000; text-decoration-color: #808000\">t</span>=<span style=\"color: #008080; text-decoration-color: #008080; font-weight: bold\">50</span><span style=\"color: #808000; text-decoration-color: #808000\">...</span>\n",
       "</pre>\n"
      ],
      "text/plain": [
       "--- Processing \u001b[33mt\u001b[0m=\u001b[1;36m50\u001b[0m\u001b[33m...\u001b[0m\n"
      ]
     },
     "metadata": {},
     "output_type": "display_data"
    },
    {
     "name": "stderr",
     "output_type": "stream",
     "text": [
      " 96%|█████████▌| 51/53 [08:46<00:20, 10.23s/it]"
     ]
    },
    {
     "data": {
      "text/html": [
       "<pre style=\"white-space:pre;overflow-x:auto;line-height:normal;font-family:Menlo,'DejaVu Sans Mono',consolas,'Courier New',monospace\">--- Processing <span style=\"color: #808000; text-decoration-color: #808000\">t</span>=<span style=\"color: #008080; text-decoration-color: #008080; font-weight: bold\">51</span><span style=\"color: #808000; text-decoration-color: #808000\">...</span>\n",
       "</pre>\n"
      ],
      "text/plain": [
       "--- Processing \u001b[33mt\u001b[0m=\u001b[1;36m51\u001b[0m\u001b[33m...\u001b[0m\n"
      ]
     },
     "metadata": {},
     "output_type": "display_data"
    },
    {
     "name": "stderr",
     "output_type": "stream",
     "text": [
      " 98%|█████████▊| 52/53 [08:54<00:09,  9.59s/it]"
     ]
    },
    {
     "data": {
      "text/html": [
       "<pre style=\"white-space:pre;overflow-x:auto;line-height:normal;font-family:Menlo,'DejaVu Sans Mono',consolas,'Courier New',monospace\">--- Processing <span style=\"color: #808000; text-decoration-color: #808000\">t</span>=<span style=\"color: #008080; text-decoration-color: #008080; font-weight: bold\">52</span><span style=\"color: #808000; text-decoration-color: #808000\">...</span>\n",
       "</pre>\n"
      ],
      "text/plain": [
       "--- Processing \u001b[33mt\u001b[0m=\u001b[1;36m52\u001b[0m\u001b[33m...\u001b[0m\n"
      ]
     },
     "metadata": {},
     "output_type": "display_data"
    },
    {
     "name": "stderr",
     "output_type": "stream",
     "text": [
      "100%|██████████| 53/53 [08:56<00:00, 10.13s/it]\n"
     ]
    }
   ],
   "source": [
    "sim_dfs = []\n",
    "save_path = \"../data/process/sim/\"\n",
    "for t in tqdm(ts, position=0, leave=True):\n",
    "    pp(f\"--- Processing t={t}...\")\n",
    "    df_tmp = df.loc[df[\"t\"] == t]\n",
    "    ids = df_tmp.loc[df_tmp[\"t\"] == t, \"unique_id\"].tolist()\n",
    "    sentences = grab_text(t, df=df_tmp)\n",
    "    sim_scores = cal_sim_score_single(sentences)\n",
    "    sim_df = pd.DataFrame(\n",
    "        {\n",
    "            \"unique_id\": ids,\n",
    "            \"t\": [t] * len(sentences),\n",
    "            \"text\": sentences,\n",
    "            \"similarity_score\": sim_scores,\n",
    "        }\n",
    "    )\n",
    "    sim_dfs.append(sim_df)\n",
    "\n",
    "sim_dfs_agg = pd.concat(sim_dfs)\n",
    "save_path = f\"{save_path}/similarity_scores.csv\"\n",
    "sim_dfs_agg.to_csv(save_path, index=False)"
   ]
  }
 ],
 "metadata": {
  "kernelspec": {
   "display_name": "bert",
   "language": "python",
   "name": "python3"
  },
  "language_info": {
   "codemirror_mode": {
    "name": "ipython",
    "version": 3
   },
   "file_extension": ".py",
   "mimetype": "text/x-python",
   "name": "python",
   "nbconvert_exporter": "python",
   "pygments_lexer": "ipython3",
   "version": "3.9.21"
  }
 },
 "nbformat": 4,
 "nbformat_minor": 2
}
