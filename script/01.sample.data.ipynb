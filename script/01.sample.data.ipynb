{
 "cells": [
  {
   "cell_type": "code",
   "execution_count": 8,
   "metadata": {},
   "outputs": [
    {
     "name": "stdout",
     "output_type": "stream",
     "text": [
      "[pkgman] Installing and importing ['pandas', 'polars', 'rich', 'pandarallel', 'pyarrow', 'os']...\n",
      "[pkgman] 6 packages have been imported.\n"
     ]
    }
   ],
   "source": [
    "from pkgman import include\n",
    "\n",
    "include([\"pandas\", \"polars\", \"rich\", \"pandarallel\", \"pyarrow\", \"os\"])\n",
    "pd = pandas\n",
    "pl = polars\n",
    "pp = rich.print"
   ]
  },
  {
   "cell_type": "code",
   "execution_count": 9,
   "metadata": {},
   "outputs": [
    {
     "data": {
      "text/plain": [
       "['ABC.csv',\n",
       " 'BBCWORLD.csv',\n",
       " 'BREITBARTNEWS.csv',\n",
       " 'BUSINESSINSIDER.csv',\n",
       " 'BUZZFEEDNEWS.csv',\n",
       " 'CBSNEWS.csv',\n",
       " 'CNN.csv',\n",
       " 'DAILYCALLER.csv',\n",
       " 'DCEXAMINER.csv',\n",
       " 'FOXNEWS.csv',\n",
       " 'GUARDIAN.csv',\n",
       " 'HUFFPOST.csv',\n",
       " 'MSNBC.csv',\n",
       " 'NBCNEWS.csv',\n",
       " 'NEWSWEEK.csv',\n",
       " 'NPR.csv',\n",
       " 'NYPOST.csv',\n",
       " 'NYTIMES.csv',\n",
       " 'PBS.csv',\n",
       " 'POLITICO.csv',\n",
       " 'SEANHANNITY.csv',\n",
       " 'THEHILL.csv',\n",
       " 'TIME.csv',\n",
       " 'USATODAY.csv',\n",
       " 'VICE.csv',\n",
       " 'VOXDOTCOM.csv',\n",
       " 'WASHINGTONPOST.csv',\n",
       " 'WSJ.csv']"
      ]
     },
     "execution_count": 9,
     "metadata": {},
     "output_type": "execute_result"
    }
   ],
   "source": [
    "path = \"../data/clean/\"\n",
    "path_sample_save = \"../data/sample/\"\n",
    "\n",
    "files = os.listdir(path)\n",
    "files = [f for f in files if f.endswith(\".csv\")]\n",
    "files.sort()\n",
    "\n",
    "# sampling\n",
    "# files = files[:3]\n",
    "files"
   ]
  },
  {
   "cell_type": "code",
   "execution_count": 10,
   "metadata": {},
   "outputs": [
    {
     "data": {
      "text/html": [
       "<div>\n",
       "<style scoped>\n",
       "    .dataframe tbody tr th:only-of-type {\n",
       "        vertical-align: middle;\n",
       "    }\n",
       "\n",
       "    .dataframe tbody tr th {\n",
       "        vertical-align: top;\n",
       "    }\n",
       "\n",
       "    .dataframe thead th {\n",
       "        text-align: right;\n",
       "    }\n",
       "</style>\n",
       "<table border=\"1\" class=\"dataframe\">\n",
       "  <thead>\n",
       "    <tr style=\"text-align: right;\">\n",
       "      <th></th>\n",
       "      <th>text</th>\n",
       "      <th>retweet</th>\n",
       "      <th>reply</th>\n",
       "      <th>like</th>\n",
       "      <th>quote</th>\n",
       "      <th>impression</th>\n",
       "      <th>is_reply</th>\n",
       "      <th>id</th>\n",
       "      <th>created_at</th>\n",
       "      <th>author_id</th>\n",
       "      <th>lang</th>\n",
       "    </tr>\n",
       "  </thead>\n",
       "  <tbody>\n",
       "    <tr>\n",
       "      <th>0</th>\n",
       "      <td>Both found abused and neglected, rescued cocke...</td>\n",
       "      <td>120</td>\n",
       "      <td>17</td>\n",
       "      <td>163</td>\n",
       "      <td>0</td>\n",
       "      <td>0</td>\n",
       "      <td>False</td>\n",
       "      <td>550444909342105600</td>\n",
       "      <td>2015-01-01 00:14:27+00:00</td>\n",
       "      <td>28785486</td>\n",
       "      <td>en</td>\n",
       "    </tr>\n",
       "    <tr>\n",
       "      <th>1</th>\n",
       "      <td>Happy New Year, London! http://t.co/tOJW6Kuguf</td>\n",
       "      <td>1128</td>\n",
       "      <td>43</td>\n",
       "      <td>1136</td>\n",
       "      <td>0</td>\n",
       "      <td>0</td>\n",
       "      <td>False</td>\n",
       "      <td>550450943079108608</td>\n",
       "      <td>2015-01-01 00:38:26+00:00</td>\n",
       "      <td>28785486</td>\n",
       "      <td>en</td>\n",
       "    </tr>\n",
       "    <tr>\n",
       "      <th>2</th>\n",
       "      <td>RT @bensherwood: 15 years ago tonight, Peter J...</td>\n",
       "      <td>141</td>\n",
       "      <td>0</td>\n",
       "      <td>0</td>\n",
       "      <td>0</td>\n",
       "      <td>0</td>\n",
       "      <td>False</td>\n",
       "      <td>550453542410915840</td>\n",
       "      <td>2015-01-01 00:48:46+00:00</td>\n",
       "      <td>28785486</td>\n",
       "      <td>en</td>\n",
       "    </tr>\n",
       "    <tr>\n",
       "      <th>3</th>\n",
       "      <td>As US combat role in Afghanistan comes to an e...</td>\n",
       "      <td>74</td>\n",
       "      <td>22</td>\n",
       "      <td>37</td>\n",
       "      <td>0</td>\n",
       "      <td>0</td>\n",
       "      <td>False</td>\n",
       "      <td>550458518076006400</td>\n",
       "      <td>2015-01-01 01:08:32+00:00</td>\n",
       "      <td>28785486</td>\n",
       "      <td>en</td>\n",
       "    </tr>\n",
       "    <tr>\n",
       "      <th>4</th>\n",
       "      <td>RT @ABCNewsLive: LIVE: 1,000,000 people expect...</td>\n",
       "      <td>283</td>\n",
       "      <td>0</td>\n",
       "      <td>0</td>\n",
       "      <td>0</td>\n",
       "      <td>0</td>\n",
       "      <td>False</td>\n",
       "      <td>550461217798500352</td>\n",
       "      <td>2015-01-01 01:19:16+00:00</td>\n",
       "      <td>28785486</td>\n",
       "      <td>en</td>\n",
       "    </tr>\n",
       "  </tbody>\n",
       "</table>\n",
       "</div>"
      ],
      "text/plain": [
       "                                                text  retweet  reply  like  \\\n",
       "0  Both found abused and neglected, rescued cocke...      120     17   163   \n",
       "1     Happy New Year, London! http://t.co/tOJW6Kuguf     1128     43  1136   \n",
       "2  RT @bensherwood: 15 years ago tonight, Peter J...      141      0     0   \n",
       "3  As US combat role in Afghanistan comes to an e...       74     22    37   \n",
       "4  RT @ABCNewsLive: LIVE: 1,000,000 people expect...      283      0     0   \n",
       "\n",
       "   quote  impression  is_reply                  id                 created_at  \\\n",
       "0      0           0     False  550444909342105600  2015-01-01 00:14:27+00:00   \n",
       "1      0           0     False  550450943079108608  2015-01-01 00:38:26+00:00   \n",
       "2      0           0     False  550453542410915840  2015-01-01 00:48:46+00:00   \n",
       "3      0           0     False  550458518076006400  2015-01-01 01:08:32+00:00   \n",
       "4      0           0     False  550461217798500352  2015-01-01 01:19:16+00:00   \n",
       "\n",
       "   author_id lang  \n",
       "0   28785486   en  \n",
       "1   28785486   en  \n",
       "2   28785486   en  \n",
       "3   28785486   en  \n",
       "4   28785486   en  "
      ]
     },
     "execution_count": 10,
     "metadata": {},
     "output_type": "execute_result"
    }
   ],
   "source": [
    "df = pl.read_csv(path + files[0], separator=\"\\t\").to_pandas()\n",
    "df.head()"
   ]
  },
  {
   "cell_type": "code",
   "execution_count": 11,
   "metadata": {},
   "outputs": [
    {
     "data": {
      "text/html": [
       "<pre style=\"white-space:pre;overflow-x:auto;line-height:normal;font-family:Menlo,'DejaVu Sans Mono',consolas,'Courier New',monospace\">Sampled <span style=\"font-weight: bold\">(</span>ABC.csv<span style=\"font-weight: bold\">)</span> dataframe saved successfully.\n",
       "</pre>\n"
      ],
      "text/plain": [
       "Sampled \u001b[1m(\u001b[0mABC.csv\u001b[1m)\u001b[0m dataframe saved successfully.\n"
      ]
     },
     "metadata": {},
     "output_type": "display_data"
    },
    {
     "data": {
      "text/html": [
       "<pre style=\"white-space:pre;overflow-x:auto;line-height:normal;font-family:Menlo,'DejaVu Sans Mono',consolas,'Courier New',monospace\">Sampled <span style=\"font-weight: bold\">(</span>BBCWORLD.csv<span style=\"font-weight: bold\">)</span> dataframe saved successfully.\n",
       "</pre>\n"
      ],
      "text/plain": [
       "Sampled \u001b[1m(\u001b[0mBBCWORLD.csv\u001b[1m)\u001b[0m dataframe saved successfully.\n"
      ]
     },
     "metadata": {},
     "output_type": "display_data"
    },
    {
     "data": {
      "text/html": [
       "<pre style=\"white-space:pre;overflow-x:auto;line-height:normal;font-family:Menlo,'DejaVu Sans Mono',consolas,'Courier New',monospace\">Sampled <span style=\"font-weight: bold\">(</span>BREITBARTNEWS.csv<span style=\"font-weight: bold\">)</span> dataframe saved successfully.\n",
       "</pre>\n"
      ],
      "text/plain": [
       "Sampled \u001b[1m(\u001b[0mBREITBARTNEWS.csv\u001b[1m)\u001b[0m dataframe saved successfully.\n"
      ]
     },
     "metadata": {},
     "output_type": "display_data"
    },
    {
     "data": {
      "text/html": [
       "<pre style=\"white-space:pre;overflow-x:auto;line-height:normal;font-family:Menlo,'DejaVu Sans Mono',consolas,'Courier New',monospace\">Sampled <span style=\"font-weight: bold\">(</span>BUSINESSINSIDER.csv<span style=\"font-weight: bold\">)</span> dataframe saved successfully.\n",
       "</pre>\n"
      ],
      "text/plain": [
       "Sampled \u001b[1m(\u001b[0mBUSINESSINSIDER.csv\u001b[1m)\u001b[0m dataframe saved successfully.\n"
      ]
     },
     "metadata": {},
     "output_type": "display_data"
    },
    {
     "data": {
      "text/html": [
       "<pre style=\"white-space:pre;overflow-x:auto;line-height:normal;font-family:Menlo,'DejaVu Sans Mono',consolas,'Courier New',monospace\">Sampled <span style=\"font-weight: bold\">(</span>BUZZFEEDNEWS.csv<span style=\"font-weight: bold\">)</span> dataframe saved successfully.\n",
       "</pre>\n"
      ],
      "text/plain": [
       "Sampled \u001b[1m(\u001b[0mBUZZFEEDNEWS.csv\u001b[1m)\u001b[0m dataframe saved successfully.\n"
      ]
     },
     "metadata": {},
     "output_type": "display_data"
    },
    {
     "data": {
      "text/html": [
       "<pre style=\"white-space:pre;overflow-x:auto;line-height:normal;font-family:Menlo,'DejaVu Sans Mono',consolas,'Courier New',monospace\">Sampled <span style=\"font-weight: bold\">(</span>CBSNEWS.csv<span style=\"font-weight: bold\">)</span> dataframe saved successfully.\n",
       "</pre>\n"
      ],
      "text/plain": [
       "Sampled \u001b[1m(\u001b[0mCBSNEWS.csv\u001b[1m)\u001b[0m dataframe saved successfully.\n"
      ]
     },
     "metadata": {},
     "output_type": "display_data"
    },
    {
     "data": {
      "text/html": [
       "<pre style=\"white-space:pre;overflow-x:auto;line-height:normal;font-family:Menlo,'DejaVu Sans Mono',consolas,'Courier New',monospace\">Sampled <span style=\"font-weight: bold\">(</span>CNN.csv<span style=\"font-weight: bold\">)</span> dataframe saved successfully.\n",
       "</pre>\n"
      ],
      "text/plain": [
       "Sampled \u001b[1m(\u001b[0mCNN.csv\u001b[1m)\u001b[0m dataframe saved successfully.\n"
      ]
     },
     "metadata": {},
     "output_type": "display_data"
    },
    {
     "data": {
      "text/html": [
       "<pre style=\"white-space:pre;overflow-x:auto;line-height:normal;font-family:Menlo,'DejaVu Sans Mono',consolas,'Courier New',monospace\">Sampled <span style=\"font-weight: bold\">(</span>DAILYCALLER.csv<span style=\"font-weight: bold\">)</span> dataframe saved successfully.\n",
       "</pre>\n"
      ],
      "text/plain": [
       "Sampled \u001b[1m(\u001b[0mDAILYCALLER.csv\u001b[1m)\u001b[0m dataframe saved successfully.\n"
      ]
     },
     "metadata": {},
     "output_type": "display_data"
    },
    {
     "data": {
      "text/html": [
       "<pre style=\"white-space:pre;overflow-x:auto;line-height:normal;font-family:Menlo,'DejaVu Sans Mono',consolas,'Courier New',monospace\">Sampled <span style=\"font-weight: bold\">(</span>DCEXAMINER.csv<span style=\"font-weight: bold\">)</span> dataframe saved successfully.\n",
       "</pre>\n"
      ],
      "text/plain": [
       "Sampled \u001b[1m(\u001b[0mDCEXAMINER.csv\u001b[1m)\u001b[0m dataframe saved successfully.\n"
      ]
     },
     "metadata": {},
     "output_type": "display_data"
    },
    {
     "data": {
      "text/html": [
       "<pre style=\"white-space:pre;overflow-x:auto;line-height:normal;font-family:Menlo,'DejaVu Sans Mono',consolas,'Courier New',monospace\">Sampled <span style=\"font-weight: bold\">(</span>FOXNEWS.csv<span style=\"font-weight: bold\">)</span> dataframe saved successfully.\n",
       "</pre>\n"
      ],
      "text/plain": [
       "Sampled \u001b[1m(\u001b[0mFOXNEWS.csv\u001b[1m)\u001b[0m dataframe saved successfully.\n"
      ]
     },
     "metadata": {},
     "output_type": "display_data"
    },
    {
     "data": {
      "text/html": [
       "<pre style=\"white-space:pre;overflow-x:auto;line-height:normal;font-family:Menlo,'DejaVu Sans Mono',consolas,'Courier New',monospace\">Sampled <span style=\"font-weight: bold\">(</span>GUARDIAN.csv<span style=\"font-weight: bold\">)</span> dataframe saved successfully.\n",
       "</pre>\n"
      ],
      "text/plain": [
       "Sampled \u001b[1m(\u001b[0mGUARDIAN.csv\u001b[1m)\u001b[0m dataframe saved successfully.\n"
      ]
     },
     "metadata": {},
     "output_type": "display_data"
    },
    {
     "data": {
      "text/html": [
       "<pre style=\"white-space:pre;overflow-x:auto;line-height:normal;font-family:Menlo,'DejaVu Sans Mono',consolas,'Courier New',monospace\">Sampled <span style=\"font-weight: bold\">(</span>HUFFPOST.csv<span style=\"font-weight: bold\">)</span> dataframe saved successfully.\n",
       "</pre>\n"
      ],
      "text/plain": [
       "Sampled \u001b[1m(\u001b[0mHUFFPOST.csv\u001b[1m)\u001b[0m dataframe saved successfully.\n"
      ]
     },
     "metadata": {},
     "output_type": "display_data"
    },
    {
     "data": {
      "text/html": [
       "<pre style=\"white-space:pre;overflow-x:auto;line-height:normal;font-family:Menlo,'DejaVu Sans Mono',consolas,'Courier New',monospace\">Sampled <span style=\"font-weight: bold\">(</span>MSNBC.csv<span style=\"font-weight: bold\">)</span> dataframe saved successfully.\n",
       "</pre>\n"
      ],
      "text/plain": [
       "Sampled \u001b[1m(\u001b[0mMSNBC.csv\u001b[1m)\u001b[0m dataframe saved successfully.\n"
      ]
     },
     "metadata": {},
     "output_type": "display_data"
    },
    {
     "data": {
      "text/html": [
       "<pre style=\"white-space:pre;overflow-x:auto;line-height:normal;font-family:Menlo,'DejaVu Sans Mono',consolas,'Courier New',monospace\">Sampled <span style=\"font-weight: bold\">(</span>NBCNEWS.csv<span style=\"font-weight: bold\">)</span> dataframe saved successfully.\n",
       "</pre>\n"
      ],
      "text/plain": [
       "Sampled \u001b[1m(\u001b[0mNBCNEWS.csv\u001b[1m)\u001b[0m dataframe saved successfully.\n"
      ]
     },
     "metadata": {},
     "output_type": "display_data"
    },
    {
     "data": {
      "text/html": [
       "<pre style=\"white-space:pre;overflow-x:auto;line-height:normal;font-family:Menlo,'DejaVu Sans Mono',consolas,'Courier New',monospace\">Sampled <span style=\"font-weight: bold\">(</span>NEWSWEEK.csv<span style=\"font-weight: bold\">)</span> dataframe saved successfully.\n",
       "</pre>\n"
      ],
      "text/plain": [
       "Sampled \u001b[1m(\u001b[0mNEWSWEEK.csv\u001b[1m)\u001b[0m dataframe saved successfully.\n"
      ]
     },
     "metadata": {},
     "output_type": "display_data"
    },
    {
     "data": {
      "text/html": [
       "<pre style=\"white-space:pre;overflow-x:auto;line-height:normal;font-family:Menlo,'DejaVu Sans Mono',consolas,'Courier New',monospace\">Sampled <span style=\"font-weight: bold\">(</span>NPR.csv<span style=\"font-weight: bold\">)</span> dataframe saved successfully.\n",
       "</pre>\n"
      ],
      "text/plain": [
       "Sampled \u001b[1m(\u001b[0mNPR.csv\u001b[1m)\u001b[0m dataframe saved successfully.\n"
      ]
     },
     "metadata": {},
     "output_type": "display_data"
    },
    {
     "data": {
      "text/html": [
       "<pre style=\"white-space:pre;overflow-x:auto;line-height:normal;font-family:Menlo,'DejaVu Sans Mono',consolas,'Courier New',monospace\">Sampled <span style=\"font-weight: bold\">(</span>NYPOST.csv<span style=\"font-weight: bold\">)</span> dataframe saved successfully.\n",
       "</pre>\n"
      ],
      "text/plain": [
       "Sampled \u001b[1m(\u001b[0mNYPOST.csv\u001b[1m)\u001b[0m dataframe saved successfully.\n"
      ]
     },
     "metadata": {},
     "output_type": "display_data"
    },
    {
     "data": {
      "text/html": [
       "<pre style=\"white-space:pre;overflow-x:auto;line-height:normal;font-family:Menlo,'DejaVu Sans Mono',consolas,'Courier New',monospace\">Sampled <span style=\"font-weight: bold\">(</span>NYTIMES.csv<span style=\"font-weight: bold\">)</span> dataframe saved successfully.\n",
       "</pre>\n"
      ],
      "text/plain": [
       "Sampled \u001b[1m(\u001b[0mNYTIMES.csv\u001b[1m)\u001b[0m dataframe saved successfully.\n"
      ]
     },
     "metadata": {},
     "output_type": "display_data"
    },
    {
     "data": {
      "text/html": [
       "<pre style=\"white-space:pre;overflow-x:auto;line-height:normal;font-family:Menlo,'DejaVu Sans Mono',consolas,'Courier New',monospace\">Sampled <span style=\"font-weight: bold\">(</span>PBS.csv<span style=\"font-weight: bold\">)</span> dataframe saved successfully.\n",
       "</pre>\n"
      ],
      "text/plain": [
       "Sampled \u001b[1m(\u001b[0mPBS.csv\u001b[1m)\u001b[0m dataframe saved successfully.\n"
      ]
     },
     "metadata": {},
     "output_type": "display_data"
    },
    {
     "data": {
      "text/html": [
       "<pre style=\"white-space:pre;overflow-x:auto;line-height:normal;font-family:Menlo,'DejaVu Sans Mono',consolas,'Courier New',monospace\">Sampled <span style=\"font-weight: bold\">(</span>POLITICO.csv<span style=\"font-weight: bold\">)</span> dataframe saved successfully.\n",
       "</pre>\n"
      ],
      "text/plain": [
       "Sampled \u001b[1m(\u001b[0mPOLITICO.csv\u001b[1m)\u001b[0m dataframe saved successfully.\n"
      ]
     },
     "metadata": {},
     "output_type": "display_data"
    },
    {
     "data": {
      "text/html": [
       "<pre style=\"white-space:pre;overflow-x:auto;line-height:normal;font-family:Menlo,'DejaVu Sans Mono',consolas,'Courier New',monospace\">Sampled <span style=\"font-weight: bold\">(</span>SEANHANNITY.csv<span style=\"font-weight: bold\">)</span> dataframe saved successfully.\n",
       "</pre>\n"
      ],
      "text/plain": [
       "Sampled \u001b[1m(\u001b[0mSEANHANNITY.csv\u001b[1m)\u001b[0m dataframe saved successfully.\n"
      ]
     },
     "metadata": {},
     "output_type": "display_data"
    },
    {
     "data": {
      "text/html": [
       "<pre style=\"white-space:pre;overflow-x:auto;line-height:normal;font-family:Menlo,'DejaVu Sans Mono',consolas,'Courier New',monospace\">Sampled <span style=\"font-weight: bold\">(</span>THEHILL.csv<span style=\"font-weight: bold\">)</span> dataframe saved successfully.\n",
       "</pre>\n"
      ],
      "text/plain": [
       "Sampled \u001b[1m(\u001b[0mTHEHILL.csv\u001b[1m)\u001b[0m dataframe saved successfully.\n"
      ]
     },
     "metadata": {},
     "output_type": "display_data"
    },
    {
     "data": {
      "text/html": [
       "<pre style=\"white-space:pre;overflow-x:auto;line-height:normal;font-family:Menlo,'DejaVu Sans Mono',consolas,'Courier New',monospace\">Sampled <span style=\"font-weight: bold\">(</span>TIME.csv<span style=\"font-weight: bold\">)</span> dataframe saved successfully.\n",
       "</pre>\n"
      ],
      "text/plain": [
       "Sampled \u001b[1m(\u001b[0mTIME.csv\u001b[1m)\u001b[0m dataframe saved successfully.\n"
      ]
     },
     "metadata": {},
     "output_type": "display_data"
    },
    {
     "data": {
      "text/html": [
       "<pre style=\"white-space:pre;overflow-x:auto;line-height:normal;font-family:Menlo,'DejaVu Sans Mono',consolas,'Courier New',monospace\">Sampled <span style=\"font-weight: bold\">(</span>USATODAY.csv<span style=\"font-weight: bold\">)</span> dataframe saved successfully.\n",
       "</pre>\n"
      ],
      "text/plain": [
       "Sampled \u001b[1m(\u001b[0mUSATODAY.csv\u001b[1m)\u001b[0m dataframe saved successfully.\n"
      ]
     },
     "metadata": {},
     "output_type": "display_data"
    },
    {
     "data": {
      "text/html": [
       "<pre style=\"white-space:pre;overflow-x:auto;line-height:normal;font-family:Menlo,'DejaVu Sans Mono',consolas,'Courier New',monospace\">Sampled <span style=\"font-weight: bold\">(</span>VICE.csv<span style=\"font-weight: bold\">)</span> dataframe saved successfully.\n",
       "</pre>\n"
      ],
      "text/plain": [
       "Sampled \u001b[1m(\u001b[0mVICE.csv\u001b[1m)\u001b[0m dataframe saved successfully.\n"
      ]
     },
     "metadata": {},
     "output_type": "display_data"
    },
    {
     "data": {
      "text/html": [
       "<pre style=\"white-space:pre;overflow-x:auto;line-height:normal;font-family:Menlo,'DejaVu Sans Mono',consolas,'Courier New',monospace\">Sampled <span style=\"font-weight: bold\">(</span>VOXDOTCOM.csv<span style=\"font-weight: bold\">)</span> dataframe saved successfully.\n",
       "</pre>\n"
      ],
      "text/plain": [
       "Sampled \u001b[1m(\u001b[0mVOXDOTCOM.csv\u001b[1m)\u001b[0m dataframe saved successfully.\n"
      ]
     },
     "metadata": {},
     "output_type": "display_data"
    },
    {
     "data": {
      "text/html": [
       "<pre style=\"white-space:pre;overflow-x:auto;line-height:normal;font-family:Menlo,'DejaVu Sans Mono',consolas,'Courier New',monospace\">Sampled <span style=\"font-weight: bold\">(</span>WASHINGTONPOST.csv<span style=\"font-weight: bold\">)</span> dataframe saved successfully.\n",
       "</pre>\n"
      ],
      "text/plain": [
       "Sampled \u001b[1m(\u001b[0mWASHINGTONPOST.csv\u001b[1m)\u001b[0m dataframe saved successfully.\n"
      ]
     },
     "metadata": {},
     "output_type": "display_data"
    },
    {
     "data": {
      "text/html": [
       "<pre style=\"white-space:pre;overflow-x:auto;line-height:normal;font-family:Menlo,'DejaVu Sans Mono',consolas,'Courier New',monospace\">Sampled <span style=\"font-weight: bold\">(</span>WSJ.csv<span style=\"font-weight: bold\">)</span> dataframe saved successfully.\n",
       "</pre>\n"
      ],
      "text/plain": [
       "Sampled \u001b[1m(\u001b[0mWSJ.csv\u001b[1m)\u001b[0m dataframe saved successfully.\n"
      ]
     },
     "metadata": {},
     "output_type": "display_data"
    }
   ],
   "source": [
    "for file_name in files:\n",
    "    df = pl.read_csv(path + file_name, separator=\"\\t\").to_pandas()\n",
    "    df[\"media\"] = file_name.lower().split(\".\")[0]\n",
    "    df[\"media\"] = df[\"media\"].str.strip()\n",
    "    df[\"date\"] = pd.to_datetime(df[\"created_at\"], format=\"%Y-%m-%d %H:%M:%S+00:00\")\n",
    "    df = df[df[\"date\"] >= pd.to_datetime(\"2016-01-01\")]\n",
    "    df = df[df[\"date\"] <= pd.to_datetime(\"2017-01-01\")]\n",
    "    # seasonalization by week starting from 2016-01-01 (7 days)\n",
    "    df[\"t\"] = ((df[\"date\"] - pd.to_datetime(\"2016-01-01\")).dt.days // 7).astype(int)\n",
    "    df = df.sample(frac=0.6, random_state=42)\n",
    "    df.reset_index(drop=True, inplace=True)\n",
    "    df.to_csv(path_sample_save + file_name, index=False)\n",
    "    pp(f\"Sampled ({file_name}) dataframe saved successfully.\")\n",
    "    len_df = df.shape[0]\n",
    "    df.head(3)\n"
   ]
  },
  {
   "cell_type": "code",
   "execution_count": null,
   "metadata": {},
   "outputs": [],
   "source": []
  }
 ],
 "metadata": {
  "kernelspec": {
   "display_name": "data",
   "language": "python",
   "name": "python3"
  },
  "language_info": {
   "codemirror_mode": {
    "name": "ipython",
    "version": 3
   },
   "file_extension": ".py",
   "mimetype": "text/x-python",
   "name": "python",
   "nbconvert_exporter": "python",
   "pygments_lexer": "ipython3",
   "version": "3.11.9"
  }
 },
 "nbformat": 4,
 "nbformat_minor": 2
}
