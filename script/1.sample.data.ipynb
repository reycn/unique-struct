{
 "cells": [
  {
   "cell_type": "code",
   "execution_count": 3,
   "metadata": {},
   "outputs": [
    {
     "name": "stdout",
     "output_type": "stream",
     "text": [
      "[pkgman] Installing and importing ['pandas', 'polars', 'rich', 'pandarallel', 'pyarrow', 'os']...\n",
      "[pkgman] 6 packages have been imported.\n"
     ]
    }
   ],
   "source": [
    "from pkgman import include\n",
    "\n",
    "include([\"pandas\", \"polars\", \"rich\", \"pandarallel\", \"pyarrow\", \"os\"])\n",
    "pl = pandas\n",
    "pd = polars"
   ]
  },
  {
   "cell_type": "code",
   "execution_count": 4,
   "metadata": {},
   "outputs": [],
   "source": [
    "path = \"../data/clean/\"\n",
    "path_sample_save = \"../data/sample/\"\n",
    "\n",
    "files = os.listdir(path)\n",
    "files = [f for f in files if f.endswith(\".csv\")]\n",
    "files.sort()"
   ]
  },
  {
   "cell_type": "code",
   "execution_count": null,
   "metadata": {},
   "outputs": [],
   "source": []
  }
 ],
 "metadata": {
  "kernelspec": {
   "display_name": "data",
   "language": "python",
   "name": "python3"
  },
  "language_info": {
   "codemirror_mode": {
    "name": "ipython",
    "version": 3
   },
   "file_extension": ".py",
   "mimetype": "text/x-python",
   "name": "python",
   "nbconvert_exporter": "python",
   "pygments_lexer": "ipython3",
   "version": "3.11.9"
  }
 },
 "nbformat": 4,
 "nbformat_minor": 2
}
